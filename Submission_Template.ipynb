{
  "nbformat": 4,
  "nbformat_minor": 0,
  "metadata": {
    "colab": {
      "provenance": [],
      "collapsed_sections": [
        "C8rCpNajszur"
      ]
    },
    "kernelspec": {
      "name": "python3",
      "display_name": "Python 3"
    },
    "language_info": {
      "name": "python"
    }
  },
  "cells": [
    {
      "cell_type": "markdown",
      "source": [
        "# World Data League 2022"
      ],
      "metadata": {
        "id": "Is1th3sXsLqf"
      }
    },
    {
      "cell_type": "markdown",
      "metadata": {
        "id": "JeP6xkRIBJco"
      },
      "source": [
        "## Notebook Submission Template\n",
        "\n",
        "This notebook is one of the mandatory deliverables when you submit your solution. Its structure follows the WDL evaluation criteria and it has dedicated cells where you should add information. Make sure your code is readable as it will be the only technical support the jury will have to evaluate your work. Make sure to list all the datasets used besides the ones provided.\n",
        "\n",
        "Instructions:\n",
        "1. 🧱 Create a separate copy of this template and **do not change** the predefined structure\n",
        "2. 👥 Fill in the Authors section with the name of each team member\n",
        "3. 💻 Develop your code - make sure to add comments and save all the output you want the jury to see. Your code **must be** runnable!\n",
        "4. 📄 Fill in all the text sections\n",
        "5. 🗑️ Remove this section (‘Notebook Submission Template’) and any instructions inside other sections\n",
        "6. 📥 Export as HTML and make sure all the visualisations are visible.\n",
        "7. ⬆️ Upload the .ipynb file to the submission platform and make sure that all the visualisations are visible and everything (text, images, ..) in all deliverables renders correctly.\n"
      ]
    },
    {
      "cell_type": "markdown",
      "source": [
        "## 🎯 Challenge\n",
        "*Insert challenge name here*\n"
      ],
      "metadata": {
        "id": "94NlB4NxwLra"
      }
    },
    {
      "cell_type": "markdown",
      "source": [
        "## Team: (Insert Team Name Here)\n",
        "## 👥 Authors\n",
        "* Person 1\n",
        "* Person 2\n",
        "* Person 3"
      ],
      "metadata": {
        "id": "jVBl_rp5gAdK"
      }
    },
    {
      "cell_type": "markdown",
      "metadata": {
        "id": "C8rCpNajszur"
      },
      "source": [
        "## 💻 Development\n",
        "Start coding here! 🐱‍🏍\n",
        "\n",
        "Create the necessary subsections (e.g. EDA, different experiments, etc..) and markdown cells to include descriptions of your work where you see fit. Comment your code. \n",
        "\n",
        "All new subsections must start with three hash characters. More specifically, don't forget to explore the following:\n",
        "1. Assess the data quality\n",
        "2. Make sure you have a good EDA where you enlist all the insights\n",
        "3. Explain the process for feature engineering and cleaning\n",
        "4. Discuss the model / technique(s) selection\n",
        "5. Don't forget to explore model interpretability and fairness or justify why it is not needed\n",
        "\n",
        "Pro-tip 1: Don't forget to make the jury's life easier. Remove any unnecessary prints before submitting the work. Hide any long output cells (from training a model for example). For each subsection, have a quick introduction (justifying what you are about to do) and conclusion (results you got from what you did). \n",
        "\n",
        "Pro-tip 2: Have many similiar graphs which all tell the same story? Add them to the appendix and show only a couple of examples, with the mention that all the others are in the appendix.\n",
        "\n",
        "Pro-tip 3: Don't forget to have a motivate all of your choices, these can be: Data-driven, constraints-driven, literature-driven or a combination of any. For example, why did you choose to test certain algorithms or why only one."
      ]
    },
    {
      "cell_type": "code",
      "metadata": {
        "id": "afB4W0KnutpV"
      },
      "source": [
        "import pandas as pd"
      ],
      "execution_count": null,
      "outputs": []
    },
    {
      "cell_type": "code",
      "metadata": {
        "id": "J4jPpcKOutZ5"
      },
      "source": [],
      "execution_count": null,
      "outputs": []
    },
    {
      "cell_type": "code",
      "metadata": {
        "id": "LQ90XveiBN6A"
      },
      "source": [],
      "execution_count": null,
      "outputs": []
    },
    {
      "cell_type": "markdown",
      "source": [
        "## 🖼️ Visualisations\n",
        "Copy here the most important visualizations (graphs, charts, maps, images, etc). You can refer to them in the Executive Summary.\n",
        "\n",
        "Technical note: If not all the visualisations are visible, you can still include them as an image or link - in this case please upload them to your own repository."
      ],
      "metadata": {
        "id": "gCcVSUTsasBP"
      }
    },
    {
      "cell_type": "markdown",
      "source": [
        "## 👓 References\n",
        "List all of the external links (even if they are already linked above), such as external datasets, papers, blog posts, code repositories and any other materials."
      ],
      "metadata": {
        "id": "F2REdi5_rThg"
      }
    },
    {
      "cell_type": "markdown",
      "source": [
        "## ⏭️ Appendix\n",
        "Add here any code, images or text that you still find relevant, but that was too long to include in the main report. This section is optional.\n"
      ],
      "metadata": {
        "id": "uLBpGOl5o0ix"
      }
    },
    {
      "cell_type": "code",
      "source": [],
      "metadata": {
        "id": "Mot-NqmmpAHI"
      },
      "execution_count": null,
      "outputs": []
    }
  ]
}