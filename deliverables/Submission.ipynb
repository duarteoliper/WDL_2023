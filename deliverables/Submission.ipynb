{
  "cells": [
    {
      "cell_type": "markdown",
      "metadata": {
        "id": "Is1th3sXsLqf"
      },
      "source": [
        "# World Data League 2022"
      ]
    },
    {
      "cell_type": "markdown",
      "metadata": {
        "id": "JeP6xkRIBJco"
      },
      "source": [
        "## Notebook Submission Template\n",
        "\n",
        "This notebook is one of the mandatory deliverables when you submit your solution. Its structure follows the WDL evaluation criteria and it has dedicated cells where you should add information. Make sure your code is readable as it will be the only technical support the jury will have to evaluate your work. Make sure to list all the datasets used besides the ones provided.\n",
        "\n",
        "Instructions:\n",
        "1. 🧱 Create a separate copy of this template and **do not change** the predefined structure\n",
        "2. 👥 Fill in the Authors section with the name of each team member\n",
        "3. 💻 Develop your code - make sure to add comments and save all the output you want the jury to see. Your code **must be** runnable!\n",
        "4. 📄 Fill in all the text sections\n",
        "5. 🗑️ Remove this section (‘Notebook Submission Template’) and any instructions inside other sections\n",
        "6. 📥 Export as HTML and make sure all the visualisations are visible.\n",
        "7. ⬆️ Upload the .ipynb file to the submission platform and make sure that all the visualisations are visible and everything (text, images, ..) in all deliverables renders correctly.\n"
      ]
    },
    {
      "cell_type": "markdown",
      "metadata": {
        "id": "94NlB4NxwLra"
      },
      "source": [
        "## 🎯 Challenge\n",
        "*First Phase*\n"
      ]
    },
    {
      "attachments": {},
      "cell_type": "markdown",
      "metadata": {
        "id": "jVBl_rp5gAdK"
      },
      "source": [
        "## Team: Mo Money, Mo Models\n",
        "## 👥 Authors\n",
        "* David Raposo\n",
        "* Duarte Pereira\n",
        "* Martim Chaves\n",
        "* Paulo Sousa"
      ]
    },
    {
      "cell_type": "markdown",
      "metadata": {
        "id": "C8rCpNajszur"
      },
      "source": [
        "## 💻 Development\n",
        "Start coding here! 🐱‍🏍\n",
        "\n",
        "Create the necessary subsections (e.g. EDA, different experiments, etc..) and markdown cells to include descriptions of your work where you see fit. Comment your code. \n",
        "\n",
        "All new subsections must start with three hash characters. More specifically, don't forget to explore the following:\n",
        "1. Assess the data quality\n",
        "2. Make sure you have a good EDA where you enlist all the insights\n",
        "3. Explain the process for feature engineering and cleaning\n",
        "4. Discuss the model / technique(s) selection\n",
        "5. Don't forget to explore model interpretability and fairness or justify why it is not needed\n",
        "\n",
        "Pro-tip 1: Don't forget to make the jury's life easier. Remove any unnecessary prints before submitting the work. Hide any long output cells (from training a model for example). For each subsection, have a quick introduction (justifying what you are about to do) and conclusion (results you got from what you did). \n",
        "\n",
        "Pro-tip 2: Have many similiar graphs which all tell the same story? Add them to the appendix and show only a couple of examples, with the mention that all the others are in the appendix.\n",
        "\n",
        "Pro-tip 3: Don't forget to have a motivate all of your choices, these can be: Data-driven, constraints-driven, literature-driven or a combination of any. For example, why did you choose to test certain algorithms or why only one."
      ]
    },
    {
      "attachments": {},
      "cell_type": "markdown",
      "metadata": {},
      "source": [
        "## Introduction\n",
        "Have you ever found yourself in a crowded area where it's difficult to move around, or perhaps in a situation where there are too many people in one place and it becomes uncomfortable or unsafe? Our CNN-LSTM model for forecasting phone distribution within the city of Lisbon could be the solution you need!\n",
        "\n",
        "Although we encountered some challenges with training time and had to limit the learning rate, epochs, and batch size, we believe this model can have a significant impact on the city of Lisbon. By leveraging the data from phone towers in Lisbon, this model can detect areas with increased people flow and alert city managers, detecting and preventing overcrowding situations before they occur.\n",
        "\n",
        "We are continually improving this model and plan to add more data sources, such as metro station/route data and climate data, to make it even more accurate and effective. Our goal is to apply this model to other cities and regions around the word, potentially even beyond city planning and management, as it has a wide range of potential applications.\n",
        "\n",
        "As such, we performed the following tasks:\n",
        "* 📱 Phone Grid Dataset\n",
        "    * Exploratory Analysis\n",
        "    * Cleaning\n",
        "* ⚙️ Modelling\n",
        "    * CNN-LSTM Architecture\n",
        "    * Data Ingestion\n",
        "    * Training\n",
        "    * Performance Evaluation\n",
        "* 🚇 Metro Station Dataset - Exploratory Analysis & Proof-of-Concept"
      ]
    },
    {
      "attachments": {},
      "cell_type": "markdown",
      "metadata": {},
      "source": [
        "## **TODO** 📱 Phone Grid Dataset - Exploratory Analysis\n",
        "The phone grid dataset constitutes a valuable indicator for people's movement within the city of Lisbon."
      ]
    },
    {
      "cell_type": "code",
      "execution_count": null,
      "metadata": {},
      "outputs": [],
      "source": []
    },
    {
      "attachments": {},
      "cell_type": "markdown",
      "metadata": {},
      "source": [
        "## **TODO** 📱 Phone Grid Dataset - Cleaning\n",
        "The phone grid dataset, collected from phone towers in the city of Lisbon, contains variables representing phones staying, exiting, and entering grids, as well as which of those are in roaming. \n",
        "\n",
        "We performed exploratory analysis and cleaning tasks, including dealing with missing values and outliers."
      ]
    },
    {
      "cell_type": "code",
      "execution_count": null,
      "metadata": {
        "id": "afB4W0KnutpV"
      },
      "outputs": [],
      "source": []
    },
    {
      "attachments": {},
      "cell_type": "markdown",
      "metadata": {},
      "source": [
        "## **TODO** ⚙️ Modelling - CNN-LSTM Architecture"
      ]
    },
    {
      "attachments": {},
      "cell_type": "markdown",
      "metadata": {},
      "source": [
        "The pruposed CNN-LSTM architecture joins state-of-the-art deep learning models for image processing (CNN, Convolutional Neural Network) and time series forecasting (LSTM, Long Short-Term Memory).\n",
        "\n",
        "In theory, this model is able to leverage the spatial relationships within the city grid to provide better predictions based on neighbor relations, as well as the temporal dimension for forecasting."
      ]
    },
    {
      "cell_type": "code",
      "execution_count": null,
      "metadata": {
        "id": "J4jPpcKOutZ5"
      },
      "outputs": [],
      "source": []
    },
    {
      "attachments": {},
      "cell_type": "markdown",
      "metadata": {},
      "source": [
        "## **TODO** ⚙️Modelling - Data Ingestion\n",
        "Reshaping data for model inputation (aqui?)"
      ]
    },
    {
      "cell_type": "code",
      "execution_count": null,
      "metadata": {},
      "outputs": [],
      "source": []
    },
    {
      "attachments": {},
      "cell_type": "markdown",
      "metadata": {},
      "source": [
        "## **TODO** ⚙️Modelling - Training"
      ]
    },
    {
      "cell_type": "code",
      "execution_count": null,
      "metadata": {
        "id": "LQ90XveiBN6A"
      },
      "outputs": [],
      "source": []
    },
    {
      "attachments": {},
      "cell_type": "markdown",
      "metadata": {},
      "source": [
        "## **TODO** ⚙️Modelling - Performance Evaluation"
      ]
    },
    {
      "cell_type": "code",
      "execution_count": null,
      "metadata": {},
      "outputs": [],
      "source": []
    },
    {
      "attachments": {},
      "cell_type": "markdown",
      "metadata": {},
      "source": [
        "## **TODO** 🚇 Metro Station Dataset - Exploratory Analysis & Proof-of-Concept\n",
        "In addition to the phone grid data, we intend to add metro station/route data and climate data, such as temperature and precipitation, in future implementations. \n",
        "\n",
        "We developed a proof-of-concept for the metro station dataset, which involves transforming the data to concatenate with the phone grid and have the same resolution as the grid (200 x 200 meter units)."
      ]
    },
    {
      "cell_type": "code",
      "execution_count": null,
      "metadata": {},
      "outputs": [],
      "source": []
    },
    {
      "cell_type": "markdown",
      "metadata": {
        "id": "gCcVSUTsasBP"
      },
      "source": [
        "## 🖼️ Visualisations\n",
        "Copy here the most important visualizations (graphs, charts, maps, images, etc). You can refer to them in the Executive Summary.\n",
        "\n",
        "Technical note: If not all the visualisations are visible, you can still include them as an image or link - in this case please upload them to your own repository."
      ]
    },
    {
      "attachments": {},
      "cell_type": "markdown",
      "metadata": {},
      "source": [
        "## TODO 📱 Phone Grid Dataset - Exploratory Data Analysis"
      ]
    },
    {
      "cell_type": "code",
      "execution_count": null,
      "metadata": {},
      "outputs": [],
      "source": []
    },
    {
      "attachments": {},
      "cell_type": "markdown",
      "metadata": {},
      "source": [
        "## **TODO** ⚙️Modelling - Performance"
      ]
    },
    {
      "cell_type": "code",
      "execution_count": null,
      "metadata": {},
      "outputs": [],
      "source": []
    },
    {
      "attachments": {},
      "cell_type": "markdown",
      "metadata": {},
      "source": [
        "## **TODO** 🚇 Metro Station Dataset - Exploratory Analysis"
      ]
    },
    {
      "cell_type": "code",
      "execution_count": null,
      "metadata": {},
      "outputs": [],
      "source": []
    },
    {
      "attachments": {},
      "cell_type": "markdown",
      "metadata": {},
      "source": [
        "## TODO - Conclusion"
      ]
    },
    {
      "attachments": {},
      "cell_type": "markdown",
      "metadata": {
        "id": "F2REdi5_rThg"
      },
      "source": [
        "## 👓 References\n",
        "List all of the external links (even if they are already linked above), such as external datasets, papers, blog posts, code repositories and any other materials.\n",
        "* lr_scheduler - https://www.tensorflow.org/api_docs/python/tf/keras/callbacks/LearningRateScheduler\n",
        "* CNN-LSTM model - https://github.com/Pradnya1208/Time-series-forecasting-using-Deep-Learning"
      ]
    },
    {
      "cell_type": "markdown",
      "metadata": {
        "id": "uLBpGOl5o0ix"
      },
      "source": [
        "## ⏭️ Appendix\n",
        "Add here any code, images or text that you still find relevant, but that was too long to include in the main report. This section is optional.\n"
      ]
    },
    {
      "cell_type": "code",
      "execution_count": null,
      "metadata": {
        "id": "Mot-NqmmpAHI"
      },
      "outputs": [],
      "source": []
    }
  ],
  "metadata": {
    "colab": {
      "collapsed_sections": [
        "C8rCpNajszur"
      ],
      "provenance": []
    },
    "kernelspec": {
      "display_name": "Python 3",
      "name": "python3"
    },
    "language_info": {
      "name": "python"
    }
  },
  "nbformat": 4,
  "nbformat_minor": 0
}
