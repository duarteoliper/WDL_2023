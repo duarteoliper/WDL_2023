{
 "cells": [
  {
   "cell_type": "code",
   "execution_count": null,
   "metadata": {},
   "outputs": [],
   "source": [
    "import numpy as np\n",
    "import pandas as pd \n",
    "import os\n",
    "import matplotlib.pyplot as plt"
   ]
  },
  {
   "cell_type": "code",
   "execution_count": null,
   "metadata": {},
   "outputs": [],
   "source": [
    "# Data file names\n",
    "\n",
    "grid_info = os.path.join(os.path.dirname(os.getcwd()), \"data\", \"raw\", \"ficheiros_WDL\", \"DISPOSITIVOS MOVEIS_QUADRICULAS\", \"DISPOSITIVOS MOVEIS_QUADRICULAS.xlsx\")\n",
    "\n",
    "#There are mov files for different datas, I'll add all of them here latter \n",
    "movs = os.path.join(os.path.dirname(os.getcwd()), \"data\", \"raw\", \"ficheiros_WDL\", \"DISPOSITIVOS MOVEIS_GRELHA E EIXOS\", \"CML_DISPOSITIVOS MOVEIS_GRELHA_indCD15m_2022_09_0001_4000.csv\")"
   ]
  },
  {
   "cell_type": "code",
   "execution_count": null,
   "metadata": {},
   "outputs": [],
   "source": [
    "df_movs = pd.read_csv(movs)"
   ]
  },
  {
   "cell_type": "code",
   "execution_count": null,
   "metadata": {},
   "outputs": [],
   "source": [
    "dfs_grid = pd.read_excel(grid_info, sheet_name='em bruto', engine='openpyxl')\n",
    "to_keep = ['latitude', 'longitude', 'grelha_x', 'grelha_y', 'wkt', 'grelha_id']\n",
    "\n",
    "dfs_grid_filtered = dfs_grid[to_keep]\n",
    "del(dfs_grid)"
   ]
  },
  {
   "cell_type": "code",
   "execution_count": null,
   "metadata": {},
   "outputs": [],
   "source": [
    "# coordinates\n",
    "lats = dfs_grid_filtered['latitude'].values\n",
    "lons = dfs_grid_filtered['longitude'].values\n",
    "# grid indexs\n",
    "grelha_x = dfs_grid_filtered['grelha_x'].values -1\n",
    "grelha_y = dfs_grid_filtered['grelha_y'].values -1\n",
    "grelha_id =  dfs_grid_filtered['grelha_id'].values "
   ]
  },
  {
   "cell_type": "code",
   "execution_count": null,
   "metadata": {},
   "outputs": [],
   "source": [
    "# The number of timestamps is the same for every grid point\n",
    "timeStamps = df_movs.loc[df_movs['Grid_ID'] == 1]['Datetime']\n",
    "nTimeStamps = len(timeStamps)\n",
    "\n",
    "C1_movs = df_movs['C1']\n",
    "C2_movs = df_movs['C2']\n",
    "C3_movs = df_movs['C3']\n",
    "C4_movs = df_movs['C4']\n",
    "C5_movs = df_movs['C5']\n",
    "C6_movs = df_movs['C6']\n",
    "C7_movs = df_movs['C7']\n",
    "C8_movs = df_movs['C8']\n",
    "\n",
    "grelha_id_movs = df_movs['Grid_ID']"
   ]
  },
  {
   "cell_type": "code",
   "execution_count": null,
   "metadata": {},
   "outputs": [],
   "source": [
    "grelha_id_2d = np.zeros((grelha_y.max() +1, grelha_x.max()+1))\n",
    "lat_2d = grelha_id_2d.copy()\n",
    "lon_2d = grelha_id_2d.copy()\n",
    "\n",
    "# Indices to map from\n",
    "idx_2d = np.stack([grelha_y, grelha_x])\n"
   ]
  },
  {
   "cell_type": "code",
   "execution_count": null,
   "metadata": {},
   "outputs": [],
   "source": [
    "grelha_id_2d[tuple(idx_2d)] = grelha_id.ravel()\n",
    "lat_2d[tuple(idx_2d)] = lats.ravel()\n",
    "lon_2d[tuple(idx_2d)] = lons.ravel()\n",
    "\n",
    "plt.title('Grid ID')\n",
    "plt.imshow(grelha_id_2d)\n",
    "plt.show()\n",
    "\n",
    "plt.title('Latitude')\n",
    "plt.imshow(lat_2d, vmax = lats.max(), vmin = lats.min())\n",
    "plt.show()\n",
    "\n",
    "plt.title('Longitude')\n",
    "plt.imshow(lon_2d, vmax = lons.max(), vmin = lons.min())\n",
    "plt.show()\n",
    "\n"
   ]
  },
  {
   "cell_type": "code",
   "execution_count": null,
   "metadata": {},
   "outputs": [],
   "source": [
    "grelha_id_3d = np.repeat(grelha_id_2d[..., np.newaxis], nTimeStamps, axis=-1)\n",
    "lat_3d = np.repeat(lat_2d[..., np.newaxis], nTimeStamps, axis=-1)\n",
    "lon_3d = np.repeat(lon_2d[..., np.newaxis], nTimeStamps, axis=-1)\n",
    "\n",
    "C1_grid = np.zeros_like(grelha_id_3d)\n",
    "C2_grid = np.zeros_like(grelha_id_3d)\n",
    "C3_grid = np.zeros_like(grelha_id_3d)\n",
    "C4_grid = np.zeros_like(grelha_id_3d)\n",
    "C5_grid = np.zeros_like(grelha_id_3d)\n",
    "C6_grid = np.zeros_like(grelha_id_3d)\n",
    "C7_grid = np.zeros_like(grelha_id_3d)\n",
    "C8_grid = np.zeros_like(grelha_id_3d)"
   ]
  },
  {
   "cell_type": "code",
   "execution_count": null,
   "metadata": {},
   "outputs": [],
   "source": [
    "# This can takes some time (~2.5 min) because it is not vectorized ... Anyway we can do it once and store it ...\n",
    "# Anyway doing it will xarray will be simpler \n",
    "\n",
    "for id in np.unique(grelha_id_movs):\n",
    "    try:\n",
    "        mask = grelha_id_3d == id\n",
    "        C1_grid[mask] = C1_movs[(id-1)*nTimeStamps:id*nTimeStamps]\n",
    "        C2_grid[mask] = C2_movs[(id-1)*nTimeStamps:id*nTimeStamps]\n",
    "        C3_grid[mask] = C3_movs[(id-1)*nTimeStamps:id*nTimeStamps]\n",
    "        C4_grid[mask] = C4_movs[(id-1)*nTimeStamps:id*nTimeStamps]\n",
    "        C5_grid[mask] = C5_movs[(id-1)*nTimeStamps:id*nTimeStamps]\n",
    "        C6_grid[mask] = C6_movs[(id-1)*nTimeStamps:id*nTimeStamps]\n",
    "        C7_grid[mask] = C7_movs[(id-1)*nTimeStamps:id*nTimeStamps]\n",
    "        C8_grid[mask] = C8_movs[(id-1)*nTimeStamps:id*nTimeStamps]\n",
    "    except:\n",
    "        print(f'Grid element with id {id} not being assigned!')"
   ]
  },
  {
   "cell_type": "code",
   "execution_count": null,
   "metadata": {},
   "outputs": [],
   "source": [
    "#del(df_movs)\n",
    "\n",
    "# Full array of data:\n",
    "data = np.stack([grelha_id_3d, lat_3d, lon_3d, C1_grid, C2_grid, C3_grid, C4_grid, C5_grid, C6_grid, C7_grid, C8_grid], axis = -1)\n",
    "\n",
    "# The shape should be (y,x,timeStamp,var)\n",
    "data.shape"
   ]
  },
  {
   "cell_type": "code",
   "execution_count": null,
   "metadata": {},
   "outputs": [],
   "source": [
    "grid_path = os.path.join(os.path.dirname(os.getcwd()), \"data\", \"interim\", \"grid_data.npy\")"
   ]
  },
  {
   "cell_type": "code",
   "execution_count": null,
   "metadata": {},
   "outputs": [],
   "source": [
    "# Save data the data array:\n",
    "# Currently takes 1.5GB\n",
    "with open(grid_path, 'wb') as f:\n",
    "    np.save(f, data)"
   ]
  },
  {
   "cell_type": "code",
   "execution_count": null,
   "metadata": {},
   "outputs": [],
   "source": [
    "# Loading it ...\n",
    "with open(grid_path, 'rb') as f:\n",
    "    data = np.load(f)"
   ]
  },
  {
   "cell_type": "markdown",
   "metadata": {},
   "source": [
    "**OPTION 2: Xarray dataset:**\n",
    "\n",
    "(I'll do this one later)"
   ]
  },
  {
   "cell_type": "code",
   "execution_count": null,
   "metadata": {},
   "outputs": [],
   "source": [
    "import xarray as xr"
   ]
  },
  {
   "cell_type": "code",
   "execution_count": null,
   "metadata": {},
   "outputs": [],
   "source": []
  },
  {
   "attachments": {},
   "cell_type": "markdown",
   "metadata": {},
   "source": [
    "**Plot a picture of all values**"
   ]
  },
  {
   "cell_type": "code",
   "execution_count": null,
   "metadata": {},
   "outputs": [],
   "source": [
    "def plot_picture(grid_data, timestamp_index, var):\n",
    "    plt.figure()\n",
    "    plt.imshow(grid_data[:,:,timestamp_index,var], interpolation='nearest')\n",
    "    plt.show()\n",
    "    plt.close()"
   ]
  },
  {
   "cell_type": "code",
   "execution_count": null,
   "metadata": {},
   "outputs": [],
   "source": [
    "def plot_picture(grid_data, timestamp_index):\n",
    "    num_vars = grid_data.shape[-1]\n",
    "    num_rows = int((num_vars + 2) / 3)\n",
    "    fig, axes = plt.subplots(nrows=num_rows, ncols=3, figsize=(10, 4*num_rows))\n",
    "    var_list = range(num_vars)\n",
    "    for var, ax in zip(var_list, axes.flatten()):\n",
    "        if var < num_vars:\n",
    "            ax.imshow(grid_data[:,:,timestamp_index,var], interpolation='nearest')\n",
    "            ax.set_title(f'Variable {var}')\n",
    "        else:\n",
    "            ax.axis('off')\n",
    "    if num_vars % 3 != 0:\n",
    "        fig.delaxes(axes.flatten()[-1])\n",
    "    plt.tight_layout()\n",
    "    plt.show()\n",
    "    return fig"
   ]
  },
  {
   "cell_type": "code",
   "execution_count": null,
   "metadata": {},
   "outputs": [],
   "source": [
    "data.shape"
   ]
  },
  {
   "cell_type": "code",
   "execution_count": null,
   "metadata": {},
   "outputs": [],
   "source": [
    "fig = plot_picture(grid_data = data, timestamp_index = 1000)"
   ]
  }
 ],
 "metadata": {
  "kernelspec": {
   "display_name": "Python 3.9.7 ('env': venv)",
   "language": "python",
   "name": "python3"
  },
  "language_info": {
   "codemirror_mode": {
    "name": "ipython",
    "version": 3
   },
   "file_extension": ".py",
   "mimetype": "text/x-python",
   "name": "python",
   "nbconvert_exporter": "python",
   "pygments_lexer": "ipython3",
   "version": "3.9.7"
  },
  "orig_nbformat": 4,
  "vscode": {
   "interpreter": {
    "hash": "113c6f8193f957de9f75a424e1a61670afe6a27fa9e1a95485e74395e1f13e42"
   }
  }
 },
 "nbformat": 4,
 "nbformat_minor": 2
}
