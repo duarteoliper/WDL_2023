{
 "cells": [
  {
   "cell_type": "code",
   "execution_count": 1,
   "metadata": {},
   "outputs": [],
   "source": [
    "import numpy as np\n",
    "import pandas as pd \n",
    "import os\n",
    "\n",
    "import matplotlib.pyplot as plt"
   ]
  },
  {
   "cell_type": "markdown",
   "metadata": {},
   "source": [
    "Run these to get the gridded data"
   ]
  },
  {
   "cell_type": "code",
   "execution_count": 2,
   "metadata": {},
   "outputs": [],
   "source": [
    "# Data file names\n",
    "\n",
    "grid_info = os.path.join(os.path.dirname(os.getcwd()), \"data\", \"raw\", \"ficheiros_WDL\", \"DISPOSITIVOS MOVEIS_QUADRICULAS\", \"DISPOSITIVOS MOVEIS_QUADRICULAS.xlsx\")\n",
    "\n",
    "#There are mov files for different datas, I'll add all of them here latter \n",
    "movs_path = os.path.join(os.path.dirname(os.getcwd()), \"data\", \"raw\", \"ficheiros_WDL\", \"DISPOSITIVOS MOVEIS_GRELHA E EIXOS\")\n",
    "movs_2022_09 = os.path.join(movs_path, \"CML_DISPOSITIVOS MOVEIS_GRELHA_indCD15m_2022_09_0001_4000.csv\")\n",
    "movs_2022_10 = os.path.join(movs_path, \"CML_DISPOSITIVOS MOVEIS_GRELHA_indCD15m_2022_10_0001_4000.csv\")\n",
    "movs_2022_11 = os.path.join(movs_path, \"CML_DISPOSITIVOS MOVEIS_GRELHA_indCD15m_2022_11_0001_4000.csv\")\n"
   ]
  },
  {
   "cell_type": "code",
   "execution_count": 3,
   "metadata": {},
   "outputs": [],
   "source": [
    "df_movs_2022_09= pd.read_csv(movs_2022_09)\n",
    "df_movs_2022_10= pd.read_csv(movs_2022_10)\n",
    "df_movs_2022_11= pd.read_csv(movs_2022_11)"
   ]
  },
  {
   "cell_type": "code",
   "execution_count": 4,
   "metadata": {},
   "outputs": [
    {
     "name": "stdout",
     "output_type": "stream",
     "text": [
      "2022_09 start time:  2022-09-01T00:00:00.000Z \n",
      " 2022_09 end time:  2022-09-30T23:45:00.000Z \n",
      " 2022_10 start time:  2022-10-01T00:00:00.000Z \n",
      " 2022_10 end time:  2022-10-31T23:45:00.000Z \n",
      " 2022_11 start time:  2022-11-01T00:00:00.000Z \n",
      " 2022_11 end time:  2022-11-30T23:45:00.000Z\n"
     ]
    }
   ],
   "source": [
    "#Checking if we can just concatanate the 3 datasets...\n",
    "print('2022_09 start time: ',df_movs_2022_09['Datetime'].min(),'\\n',\n",
    "'2022_09 end time: ',df_movs_2022_09['Datetime'].max(),'\\n',\n",
    "'2022_10 start time: ',df_movs_2022_10['Datetime'].min(),'\\n',\n",
    "'2022_10 end time: ',df_movs_2022_10['Datetime'].max(),'\\n',\n",
    "'2022_11 start time: ',df_movs_2022_11['Datetime'].min(),'\\n',\n",
    "'2022_11 end time: ',df_movs_2022_11['Datetime'].max())\n"
   ]
  },
  {
   "cell_type": "code",
   "execution_count": 5,
   "metadata": {},
   "outputs": [],
   "source": [
    "# Join the 3 months' dataframes:\n",
    "\n",
    "df_movs = pd.concat([df_movs_2022_09, df_movs_2022_10, df_movs_2022_11])\n",
    "del(df_movs_2022_09, df_movs_2022_10, df_movs_2022_11)\n",
    "\n"
   ]
  },
  {
   "cell_type": "code",
   "execution_count": 6,
   "metadata": {},
   "outputs": [],
   "source": [
    "# Create the 2d grid\n",
    "dfs_grid = pd.read_excel(grid_info, sheet_name='em bruto', engine='openpyxl')\n",
    "to_keep = ['latitude', 'longitude', 'grelha_x', 'grelha_y', 'wkt', 'grelha_id']\n",
    "\n",
    "dfs_grid_filtered = dfs_grid[to_keep]\n",
    "del(dfs_grid)\n",
    "\n",
    "# coordinates\n",
    "lats = dfs_grid_filtered['latitude'].values\n",
    "lons = dfs_grid_filtered['longitude'].values\n",
    "# grid indexs\n",
    "grelha_x = dfs_grid_filtered['grelha_x'].values -1\n",
    "grelha_y = dfs_grid_filtered['grelha_y'].values -1\n",
    "grelha_id =  dfs_grid_filtered['grelha_id'].values \n",
    "\n",
    "grelha_id_2d = np.empty((grelha_y.max() +1, grelha_x.max()+1))\n",
    "grelha_id_2d[:] = np.nan\n",
    "lat_2d = grelha_id_2d.copy()\n",
    "lon_2d = grelha_id_2d.copy()\n",
    "\n",
    "# Indices to map from\n",
    "idx_2d = np.stack([grelha_y, grelha_x])"
   ]
  },
  {
   "cell_type": "code",
   "execution_count": 7,
   "metadata": {},
   "outputs": [
    {
     "data": {
      "text/plain": [
       "<matplotlib.image.AxesImage at 0x7fc748383730>"
      ]
     },
     "execution_count": 7,
     "metadata": {},
     "output_type": "execute_result"
    },
    {
     "data": {
      "image/png": "[encoded data removed]",
      "text/plain": [
       "<Figure size 640x480 with 3 Axes>"
      ]
     },
     "metadata": {},
     "output_type": "display_data"
    }
   ],
   "source": [
    "# Assign the elements to the regular rectangular grid\n",
    "\n",
    "grelha_id_2d[tuple(idx_2d)] = grelha_id.ravel()\n",
    "lat_2d[tuple(idx_2d)] = lats.ravel()\n",
    "lon_2d[tuple(idx_2d)] = lons.ravel()\n",
    "\n",
    "fig, axs = plt.subplots(1,3)\n",
    "\n",
    "axs[0].set_title('Grid ID')\n",
    "axs[0].imshow(grelha_id_2d)\n",
    "\n",
    "axs[1].set_title('Latitude')\n",
    "axs[1].imshow(lat_2d, vmax = lats.max(), vmin = lats.min())\n",
    "\n",
    "axs[2].set_title('Longitude')\n",
    "axs[2].imshow(lon_2d, vmax = lons.max(), vmin = lons.min())\n",
    "\n"
   ]
  },
  {
   "cell_type": "code",
   "execution_count": 8,
   "metadata": {},
   "outputs": [],
   "source": [
    "dfs_movs = [y for x, y in df_movs.groupby('Grid_ID', as_index=False)]\n",
    "\n",
    "df_movs['Datetime'] = pd.to_datetime(df_movs['Datetime'])\n",
    "dfs_movs_ordered = [dfs_movs[i].set_index('Datetime').sort_index() for i in range(len(dfs_movs))]\n",
    "del(df_movs)\n",
    "del(dfs_movs)"
   ]
  },
  {
   "cell_type": "code",
   "execution_count": 9,
   "metadata": {},
   "outputs": [
    {
     "name": "stdout",
     "output_type": "stream",
     "text": [
      "There are different missing timestamps between cells ... Stoppped in cell 2\n",
      "It's necessary to take care of missing values\n"
     ]
    }
   ],
   "source": [
    "# This was to check if each cell id had the same missing timeStamps, since it would allow for a simpler implementation\n",
    "\n",
    "missing_time_stamps_old = pd.date_range(dfs_movs_ordered[0].index.min(), dfs_movs_ordered[0].index.max(), freq='15min').difference(dfs_movs_ordered[0].index)\n",
    "for id in range(len(dfs_movs_ordered)):\n",
    "    missing_time_stamps = pd.date_range(dfs_movs_ordered[id].index.min(), dfs_movs_ordered[id].index.max(), freq='15min').difference(dfs_movs_ordered[id].index)\n",
    "    same_missing_values = len(missing_time_stamps_old.difference(missing_time_stamps)) == 0 and len(missing_time_stamps_old) == len(missing_time_stamps)\n",
    "    if not same_missing_values:\n",
    "        break\n",
    "    missing_time_stamps_old = missing_time_stamps                                       \n",
    "\n",
    "if same_missing_values:\n",
    "    print(\"Same missing timeStamps ... :)\")\n",
    "else:\n",
    "    print(f\"There are different missing timestamps between cells ... Stoppped in cell {id}\")\n",
    "    print(\"It's necessary to take care of missing values\")\n",
    "\n",
    "# Since the mising time stamps are not exactly the same, it will be necessary to loop throug it\n",
    "# in order to fill the data with the missing ones\n"
   ]
  },
  {
   "cell_type": "code",
   "execution_count": 10,
   "metadata": {},
   "outputs": [],
   "source": [
    "\n",
    "# Function to check if a given dataset has no missing timeStamps\n",
    "\n",
    "# To use the function, one of the coordinates should be the timeStamp, grid_id and dateTime should not be mixed\n",
    "# The expected input is a list of dataframes\n",
    "\n",
    "def fill_dataset(dataset_list, fill_method='nan'):\n",
    "    \"\"\"\n",
    "\n",
    "    Args:\n",
    "    dataset_list (list):\n",
    "    fill_method (str): either 'nan' or 'interpolated'\n",
    "    \"\"\"\n",
    "\n",
    "    df_complete = list()\n",
    "\n",
    "    for dataframe in dfs_movs_ordered:\n",
    "        missing_time_stamps = pd.date_range(dataframe.index.min(), dataframe.index.max(), freq='15min').difference(dataframe.index)\n",
    "        missing_values = dataframe.iloc[0:len(missing_time_stamps),:].copy()\n",
    "        if fill_method in ['nan', 'interpolated']:\n",
    "            missing_values.loc[:,:] = np.NaN\n",
    "        else: \n",
    "            raise('Invalid Option')\n",
    "        if fill_method == 'interpolated':\n",
    "            df_complete.append(pd.concat([dataframe, missing_values]).sort_index().interpolate(method='linear'))\n",
    "        else:\n",
    "            df_complete.append(pd.concat([dataframe, missing_values]).sort_index())\n",
    "    return df_complete\n",
    "\n"
   ]
  },
  {
   "cell_type": "code",
   "execution_count": 11,
   "metadata": {},
   "outputs": [],
   "source": [
    "fill_method = 'interpolated'\n",
    "df_complete = fill_dataset(dfs_movs_ordered, fill_method='interpolated')\n",
    "del(dfs_movs_ordered)\n",
    "assert (df_complete[0] == pd.NA).sum().sum() == 0, 'There are still values with NA...'"
   ]
  },
  {
   "cell_type": "code",
   "execution_count": 13,
   "metadata": {},
   "outputs": [
    {
     "data": {
      "text/html": [
       "<div>\n",
       "<style scoped>\n",
       "    .dataframe tbody tr th:only-of-type {\n",
       "        vertical-align: middle;\n",
       "    }\n",
       "\n",
       "    .dataframe tbody tr th {\n",
       "        vertical-align: top;\n",
       "    }\n",
       "\n",
       "    .dataframe thead th {\n",
       "        text-align: right;\n",
       "    }\n",
       "</style>\n",
       "<table border=\"1\" class=\"dataframe\">\n",
       "  <thead>\n",
       "    <tr style=\"text-align: right;\">\n",
       "      <th></th>\n",
       "      <th>Grid_ID</th>\n",
       "      <th>C1</th>\n",
       "      <th>C2</th>\n",
       "      <th>C3</th>\n",
       "      <th>C4</th>\n",
       "      <th>C5</th>\n",
       "      <th>C6</th>\n",
       "      <th>C7</th>\n",
       "      <th>C8</th>\n",
       "    </tr>\n",
       "    <tr>\n",
       "      <th>Datetime</th>\n",
       "      <th></th>\n",
       "      <th></th>\n",
       "      <th></th>\n",
       "      <th></th>\n",
       "      <th></th>\n",
       "      <th></th>\n",
       "      <th></th>\n",
       "      <th></th>\n",
       "      <th></th>\n",
       "    </tr>\n",
       "  </thead>\n",
       "  <tbody>\n",
       "    <tr>\n",
       "      <th>2022-09-01T00:00:00.000Z</th>\n",
       "      <td>1.0</td>\n",
       "      <td>0.00</td>\n",
       "      <td>0.0</td>\n",
       "      <td>0.00</td>\n",
       "      <td>0.0</td>\n",
       "      <td>0.00</td>\n",
       "      <td>0.00</td>\n",
       "      <td>0.0</td>\n",
       "      <td>0.00</td>\n",
       "    </tr>\n",
       "    <tr>\n",
       "      <th>2022-09-01T00:00:00.000Z</th>\n",
       "      <td>1.0</td>\n",
       "      <td>0.00</td>\n",
       "      <td>0.0</td>\n",
       "      <td>0.00</td>\n",
       "      <td>0.0</td>\n",
       "      <td>0.00</td>\n",
       "      <td>0.00</td>\n",
       "      <td>0.0</td>\n",
       "      <td>0.00</td>\n",
       "    </tr>\n",
       "    <tr>\n",
       "      <th>2022-09-01T00:15:00.000Z</th>\n",
       "      <td>1.0</td>\n",
       "      <td>0.00</td>\n",
       "      <td>0.0</td>\n",
       "      <td>0.00</td>\n",
       "      <td>0.0</td>\n",
       "      <td>0.00</td>\n",
       "      <td>0.00</td>\n",
       "      <td>0.0</td>\n",
       "      <td>0.00</td>\n",
       "    </tr>\n",
       "    <tr>\n",
       "      <th>2022-09-01T00:15:00.000Z</th>\n",
       "      <td>1.0</td>\n",
       "      <td>0.00</td>\n",
       "      <td>0.0</td>\n",
       "      <td>0.00</td>\n",
       "      <td>0.0</td>\n",
       "      <td>0.00</td>\n",
       "      <td>0.00</td>\n",
       "      <td>0.0</td>\n",
       "      <td>0.00</td>\n",
       "    </tr>\n",
       "    <tr>\n",
       "      <th>2022-09-01T00:30:00.000Z</th>\n",
       "      <td>1.0</td>\n",
       "      <td>6.66</td>\n",
       "      <td>0.0</td>\n",
       "      <td>0.00</td>\n",
       "      <td>0.0</td>\n",
       "      <td>6.66</td>\n",
       "      <td>5.13</td>\n",
       "      <td>0.0</td>\n",
       "      <td>0.00</td>\n",
       "    </tr>\n",
       "    <tr>\n",
       "      <th>...</th>\n",
       "      <td>...</td>\n",
       "      <td>...</td>\n",
       "      <td>...</td>\n",
       "      <td>...</td>\n",
       "      <td>...</td>\n",
       "      <td>...</td>\n",
       "      <td>...</td>\n",
       "      <td>...</td>\n",
       "      <td>...</td>\n",
       "    </tr>\n",
       "    <tr>\n",
       "      <th>2022-11-30T22:45:00.000Z</th>\n",
       "      <td>1.0</td>\n",
       "      <td>0.81</td>\n",
       "      <td>0.0</td>\n",
       "      <td>0.81</td>\n",
       "      <td>0.0</td>\n",
       "      <td>0.00</td>\n",
       "      <td>2.45</td>\n",
       "      <td>0.0</td>\n",
       "      <td>2.45</td>\n",
       "    </tr>\n",
       "    <tr>\n",
       "      <th>2022-11-30T23:00:00.000Z</th>\n",
       "      <td>1.0</td>\n",
       "      <td>0.89</td>\n",
       "      <td>0.0</td>\n",
       "      <td>0.89</td>\n",
       "      <td>0.0</td>\n",
       "      <td>0.00</td>\n",
       "      <td>0.00</td>\n",
       "      <td>0.0</td>\n",
       "      <td>0.00</td>\n",
       "    </tr>\n",
       "    <tr>\n",
       "      <th>2022-11-30T23:15:00.000Z</th>\n",
       "      <td>1.0</td>\n",
       "      <td>0.96</td>\n",
       "      <td>0.0</td>\n",
       "      <td>0.96</td>\n",
       "      <td>0.0</td>\n",
       "      <td>0.00</td>\n",
       "      <td>0.00</td>\n",
       "      <td>0.0</td>\n",
       "      <td>0.00</td>\n",
       "    </tr>\n",
       "    <tr>\n",
       "      <th>2022-11-30T23:30:00.000Z</th>\n",
       "      <td>1.0</td>\n",
       "      <td>1.06</td>\n",
       "      <td>0.0</td>\n",
       "      <td>1.06</td>\n",
       "      <td>0.0</td>\n",
       "      <td>0.00</td>\n",
       "      <td>0.00</td>\n",
       "      <td>0.0</td>\n",
       "      <td>0.00</td>\n",
       "    </tr>\n",
       "    <tr>\n",
       "      <th>2022-11-30T23:45:00.000Z</th>\n",
       "      <td>1.0</td>\n",
       "      <td>1.03</td>\n",
       "      <td>0.0</td>\n",
       "      <td>1.03</td>\n",
       "      <td>0.0</td>\n",
       "      <td>0.00</td>\n",
       "      <td>0.00</td>\n",
       "      <td>0.0</td>\n",
       "      <td>0.00</td>\n",
       "    </tr>\n",
       "  </tbody>\n",
       "</table>\n",
       "<p>8736 rows × 9 columns</p>\n",
       "</div>"
      ],
      "text/plain": [
       "                          Grid_ID    C1   C2    C3   C4    C5    C6   C7    C8\n",
       "Datetime                                                                      \n",
       "2022-09-01T00:00:00.000Z      1.0  0.00  0.0  0.00  0.0  0.00  0.00  0.0  0.00\n",
       "2022-09-01T00:00:00.000Z      1.0  0.00  0.0  0.00  0.0  0.00  0.00  0.0  0.00\n",
       "2022-09-01T00:15:00.000Z      1.0  0.00  0.0  0.00  0.0  0.00  0.00  0.0  0.00\n",
       "2022-09-01T00:15:00.000Z      1.0  0.00  0.0  0.00  0.0  0.00  0.00  0.0  0.00\n",
       "2022-09-01T00:30:00.000Z      1.0  6.66  0.0  0.00  0.0  6.66  5.13  0.0  0.00\n",
       "...                           ...   ...  ...   ...  ...   ...   ...  ...   ...\n",
       "2022-11-30T22:45:00.000Z      1.0  0.81  0.0  0.81  0.0  0.00  2.45  0.0  2.45\n",
       "2022-11-30T23:00:00.000Z      1.0  0.89  0.0  0.89  0.0  0.00  0.00  0.0  0.00\n",
       "2022-11-30T23:15:00.000Z      1.0  0.96  0.0  0.96  0.0  0.00  0.00  0.0  0.00\n",
       "2022-11-30T23:30:00.000Z      1.0  1.06  0.0  1.06  0.0  0.00  0.00  0.0  0.00\n",
       "2022-11-30T23:45:00.000Z      1.0  1.03  0.0  1.03  0.0  0.00  0.00  0.0  0.00\n",
       "\n",
       "[8736 rows x 9 columns]"
      ]
     },
     "execution_count": 13,
     "metadata": {},
     "output_type": "execute_result"
    }
   ],
   "source": [
    "from scipy import stats\n",
    "df_complete[0]"
   ]
  },
  {
   "cell_type": "code",
   "execution_count": 37,
   "metadata": {},
   "outputs": [
    {
     "name": "stdout",
     "output_type": "stream",
     "text": [
      "[1082.         4847.92841552 1021.89121758 4388.24813074  938.80229782\n",
      " 2087.56393469 2065.00291621  462.07981746  341.43793538]\n",
      "Grid_ID    0\n",
      "C1         1\n",
      "C2         0\n",
      "C3         1\n",
      "C4         0\n",
      "C5         3\n",
      "C6         0\n",
      "C7         0\n",
      "C8         0\n",
      "dtype: int64\n"
     ]
    },
    {
     "name": "stderr",
     "output_type": "stream",
     "text": [
      "/tmp/ipykernel_7838/3103374619.py:3: RuntimeWarning: Precision loss occurred in moment calculation due to catastrophic cancellation. This occurs when the data are nearly identical. Results may be unreliable.\n",
      "  statistics = stats.describe(data)\n",
      "/home/pasou/anaconda3/envs/wdl_2023/lib/python3.9/site-packages/scipy/stats/_stats_py.py:1522: RuntimeWarning: Precision loss occurred in moment calculation due to catastrophic cancellation. This occurs when the data are nearly identical. Results may be unreliable.\n",
      "  sk = skew(a, axis, bias=bias)\n",
      "/home/pasou/anaconda3/envs/wdl_2023/lib/python3.9/site-packages/scipy/stats/_stats_py.py:1523: RuntimeWarning: Precision loss occurred in moment calculation due to catastrophic cancellation. This occurs when the data are nearly identical. Results may be unreliable.\n",
      "  kurt = kurtosis(a, axis, bias=bias)\n"
     ]
    }
   ],
   "source": [
    "grid_id = 1081\n",
    "data = df_complete[grid_id]\n",
    "statistics = stats.describe(data)\n",
    "stdev = statistics.variance**0.5\n",
    "mean = statistics.mean\n",
    "\n",
    "print((mean + 10*stdev))\n",
    "\n",
    "print((data > (mean + 10*stdev) ).sum())\n"
   ]
  },
  {
   "cell_type": "code",
   "execution_count": 38,
   "metadata": {},
   "outputs": [
    {
     "ename": "SyntaxError",
     "evalue": "invalid syntax (3023479897.py, line 1)",
     "output_type": "error",
     "traceback": [
      "\u001b[0;36m  Cell \u001b[0;32mIn[38], line 1\u001b[0;36m\u001b[0m\n\u001b[0;31m    for grid_id, data in enumerate(df_complete)\u001b[0m\n\u001b[0m                                               ^\u001b[0m\n\u001b[0;31mSyntaxError\u001b[0m\u001b[0;31m:\u001b[0m invalid syntax\n"
     ]
    }
   ],
   "source": [
    "for element in range(len(df_complete)):\n",
    "    statistics = stats.describe(df_complete[element])\n",
    "    stdev = statistics.variance**0.5\n",
    "    mean = statistics.mean\n",
    "    values_to_remove = (data > (mean + 10*stdev))\n",
    "    df_complete[element][values_to_remove] = pd.NA\n"
   ]
  },
  {
   "cell_type": "code",
   "execution_count": 12,
   "metadata": {},
   "outputs": [],
   "source": [
    "nTimeStamps = len(df_complete[0].index)\n",
    "grelha_id_3d = np.repeat(grelha_id_2d[..., np.newaxis], nTimeStamps, axis=-1)\n",
    "lat_3d = np.repeat(lat_2d[..., np.newaxis], nTimeStamps, axis=-1)\n",
    "lon_3d = np.repeat(lon_2d[..., np.newaxis], nTimeStamps, axis=-1)\n"
   ]
  },
  {
   "cell_type": "code",
   "execution_count": 13,
   "metadata": {},
   "outputs": [],
   "source": [
    "# Construct the dataset with the right dimensions\n",
    "\n",
    "nTimeStamps = len(df_complete[0].index)\n",
    "grelha_id_3d = np.repeat(grelha_id_2d[..., np.newaxis], nTimeStamps, axis=-1)\n",
    "\n",
    "lat_3d = np.repeat(lat_2d[..., np.newaxis], nTimeStamps, axis=-1)\n",
    "lon_3d = np.repeat(lon_2d[..., np.newaxis], nTimeStamps, axis=-1)\n",
    "\n",
    "placeholder = np.full_like(grelha_id_3d, np.NAN)\n",
    "C1_grid = placeholder\n",
    "C2_grid = placeholder\n",
    "C3_grid = placeholder\n",
    "C4_grid = placeholder\n",
    "C5_grid = placeholder\n",
    "C6_grid = placeholder\n",
    "C7_grid = placeholder\n",
    "C8_grid = placeholder"
   ]
  },
  {
   "cell_type": "code",
   "execution_count": 14,
   "metadata": {},
   "outputs": [
    {
     "data": {
      "text/plain": [
       "(76, 79, 8736, 11)"
      ]
     },
     "execution_count": 14,
     "metadata": {},
     "output_type": "execute_result"
    }
   ],
   "source": [
    "for id in np.unique(grelha_id):\n",
    "    mask = grelha_id_3d[...,0] == id\n",
    "    C1_grid[mask] = df_complete[id-1]['C1']\n",
    "    C2_grid[mask] = df_complete[id-1]['C2']\n",
    "    C3_grid[mask] = df_complete[id-1]['C3']\n",
    "    C4_grid[mask] = df_complete[id-1]['C4']\n",
    "    C5_grid[mask] = df_complete[id-1]['C5']\n",
    "    C6_grid[mask] = df_complete[id-1]['C6']\n",
    "    C7_grid[mask] = df_complete[id-1]['C7']\n",
    "    C8_grid[mask] = df_complete[id-1]['C8']\n",
    "\n",
    "del(df_complete)\n",
    "\n",
    "# Full array of data:\n",
    "data = np.stack([grelha_id_3d, lat_3d, lon_3d, C1_grid, C2_grid, C3_grid, C4_grid, C5_grid, C6_grid, C7_grid, C8_grid], axis = -1)\n",
    "\n",
    "# The shape should be (y,x,timeStamp,var)\n",
    "data.shape"
   ]
  },
  {
   "cell_type": "code",
   "execution_count": 15,
   "metadata": {},
   "outputs": [],
   "source": [
    "grid_path = os.path.join(os.path.dirname(os.getcwd()), \"data\", \"interim\", \"grid_data.npy\")"
   ]
  },
  {
   "cell_type": "code",
   "execution_count": 16,
   "metadata": {},
   "outputs": [],
   "source": [
    "# Save data the data array:\n",
    "# Currently takes 4.6GB\n",
    "with open(grid_path, 'wb') as f:\n",
    "    np.save(f, data)"
   ]
  },
  {
   "cell_type": "markdown",
   "metadata": {},
   "source": [
    "Run this to load the gridded data if already available"
   ]
  },
  {
   "cell_type": "code",
   "execution_count": 3,
   "metadata": {},
   "outputs": [],
   "source": [
    "grid_path = os.path.join(os.path.dirname(os.getcwd()), \"data\", \"interim\", \"grid_data.npy\")\n",
    "\n",
    "# Loading it ...\n",
    "with open(grid_path, 'rb') as f:\n",
    "    data = np.load(f)"
   ]
  },
  {
   "attachments": {},
   "cell_type": "markdown",
   "metadata": {},
   "source": [
    "**Plot a picture of all values**"
   ]
  },
  {
   "cell_type": "code",
   "execution_count": 28,
   "metadata": {},
   "outputs": [],
   "source": [
    "def plot_picture(grid_data, timestamp_index):\n",
    "    num_vars = grid_data.shape[-1]\n",
    "    num_rows = int((num_vars + 2) / 3)\n",
    "    fig, axes = plt.subplots(nrows=num_rows, ncols=3, figsize=(10, 4*num_rows))\n",
    "    var_list = range(num_vars)\n",
    "    for var, ax in zip(var_list, axes.flatten()):\n",
    "        if var < num_vars:\n",
    "            ax.imshow(grid_data[:,:,timestamp_index,var], interpolation='nearest')\n",
    "            ax.set_title(f'Variable {var}')\n",
    "        else:\n",
    "            ax.axis('off')\n",
    "    if num_vars % 3 != 0:\n",
    "        fig.delaxes(axes.flatten()[-1])\n",
    "    plt.tight_layout()\n",
    "    plt.show()\n",
    "    return fig"
   ]
  },
  {
   "cell_type": "code",
   "execution_count": 29,
   "metadata": {},
   "outputs": [
    {
     "data": {
      "text/plain": [
       "(76, 79, 8736, 11)"
      ]
     },
     "execution_count": 29,
     "metadata": {},
     "output_type": "execute_result"
    }
   ],
   "source": [
    "data.shape"
   ]
  },
  {
   "cell_type": "code",
   "execution_count": 30,
   "metadata": {},
   "outputs": [
    {
     "data": {
      "image/png": "[encoded data removed]",
      "text/plain": [
       "<Figure size 1000x1600 with 11 Axes>"
      ]
     },
     "metadata": {},
     "output_type": "display_data"
    }
   ],
   "source": [
    "fig = plot_picture(grid_data = data, timestamp_index = 1000)"
   ]
  },
  {
   "cell_type": "code",
   "execution_count": null,
   "metadata": {},
   "outputs": [],
   "source": []
  }
 ],
 "metadata": {
  "kernelspec": {
   "display_name": "Python 3.9.7 ('wdl_2023')",
   "language": "python",
   "name": "python3"
  },
  "language_info": {
   "codemirror_mode": {
    "name": "ipython",
    "version": 3
   },
   "file_extension": ".py",
   "mimetype": "text/x-python",
   "name": "python",
   "nbconvert_exporter": "python",
   "pygments_lexer": "ipython3",
   "version": "3.9.7"
  },
  "orig_nbformat": 4,
  "vscode": {
   "interpreter": {
    "hash": "a2998e545da6f5008f660c7019b2417e500238568300bca113b2dbb598609828"
   }
  }
 },
 "nbformat": 4,
 "nbformat_minor": 2
}
