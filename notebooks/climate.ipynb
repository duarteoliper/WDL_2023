{
 "cells": [
  {
   "attachments": {},
   "cell_type": "markdown",
   "metadata": {},
   "source": [
    "# Climate data\n",
    "This code loads the `climetlab` package and sets the source and dataset to retrieve data from the Climate Data Store (CDS) for the ERA5 reanalysis dataset. The API configuration was performed following `https://cds.climate.copernicus.eu/api-how-to`.\n",
    "\n",
    "`climetlab.load_source` ->  The `product_type` is set to `\"reanalysis\"`, and the `variable` is set to `\"2m_temperature\"` to retrieve temperature data at 2 meters above ground level, or `\"total_precipitation\"` represents the total precipitation rate and its units are meters per second (m s-1)\n",
    "  The `year` is set to `2022`, and the `month` is set to a list containing `9`, `10`, and `11` to retrieve data for September, October, and November of 2022.\n",
    "   The `day` and `time` are set to `\"01\"` and `\"12:00\"`, respectively, to retrieve data for the first day of each month at noon.\n",
    "    The `area` parameter is set to `[38.72, -9.14, 38.72, -9.14]` to specify the coordinates for Lisbon.\n",
    "    The data is then loaded into an xarray object using the `to_xarray()` method and printed to the screen.\n",
    "    Is there anything else you would like to know?"
   ]
  },
  {
   "cell_type": "code",
   "execution_count": 24,
   "metadata": {},
   "outputs": [],
   "source": [
    "import climetlab as cml\n",
    "import xarray as xr"
   ]
  },
  {
   "cell_type": "code",
   "execution_count": 25,
   "metadata": {},
   "outputs": [
    {
     "data": {
      "text/plain": [
       "'\\nThis code loads the `climetlab` package and sets the source and dataset to retrieve data from the Climate Data Store (CDS) for the ERA5 reanalysis dataset.\\n The `product_type` is set to `\"reanalysis\"`, and the `variable` is set to `\"2m_temperature\"` to retrieve temperature data at 2 meters above ground level.\\n  The `year` is set to `2022`, and the `month` is set to a list containing `9`, `10`, and `11` to retrieve data for September, October, and November of 2022.\\n   The `day` and `time` are set to `\"01\"` and `\"12:00\"`, respectively, to retrieve data for the first day of each month at noon.\\n    The `area` parameter is set to `[38.72, -9.14, 38.72, -9.14]` to specify the coordinates for Lisbon.\\n    The data is then loaded into an xarray object using the `to_xarray()` method and printed to the screen.\\n    Is there anything else you would like to know?'"
      ]
     },
     "execution_count": 25,
     "metadata": {},
     "output_type": "execute_result"
    }
   ],
   "source": [
    "# Set the source and dataset\n",
    "source = cml.load_source(\"cds\", \"reanalysis-era5-single-levels\",\n",
    "                         product_type=\"reanalysis\",\n",
    "                         variable=\"2m_temperature\",\n",
    "                         year=2022,\n",
    "                         month=[9, 10, 11],\n",
    "                         day=\"01\",\n",
    "                         time=\"12:00\",\n",
    "                         area=[38.72, -9.14, 38.72, -9.14])\n",
    "\n",
    "# Load the data\n",
    "data_temp = source.to_xarray()"
   ]
  },
  {
   "cell_type": "code",
   "execution_count": 26,
   "metadata": {},
   "outputs": [
    {
     "name": "stdout",
     "output_type": "stream",
     "text": [
      "<xarray.Dataset>\n",
      "Dimensions:     (number: 1, time: 3, step: 1, surface: 1, latitude: 1,\n",
      "                 longitude: 1)\n",
      "Coordinates:\n",
      "  * number      (number) int32 0\n",
      "  * time        (time) datetime64[ns] 2022-09-01T12:00:00 ... 2022-11-01T12:0...\n",
      "  * step        (step) timedelta64[ns] 00:00:00\n",
      "  * surface     (surface) float64 0.0\n",
      "  * latitude    (latitude) float64 38.72\n",
      "  * longitude   (longitude) float64 -9.14\n",
      "    valid_time  (time, step) datetime64[ns] ...\n",
      "Data variables:\n",
      "    t2m         (number, time, step, surface, latitude, longitude) float32 ...\n",
      "Attributes:\n",
      "    GRIB_edition:            1\n",
      "    GRIB_centre:             ecmf\n",
      "    GRIB_centreDescription:  European Centre for Medium-Range Weather Forecasts\n",
      "    GRIB_subCentre:          0\n",
      "    Conventions:             CF-1.7\n",
      "    institution:             European Centre for Medium-Range Weather Forecasts\n",
      "    history:                 2023-04-11T22:27 GRIB to CDM+CF via cfgrib-0.9.1...\n"
     ]
    }
   ],
   "source": [
    "print(data_temp)"
   ]
  },
  {
   "cell_type": "code",
   "execution_count": 27,
   "metadata": {},
   "outputs": [],
   "source": [
    "# total_precipitation represents the total precipitation rate and its units are meters per second (m s-1)\n",
    "source = cml.load_source(\"cds\", \"reanalysis-era5-single-levels\",\n",
    "                         product_type=\"reanalysis\",\n",
    "                         variable=\"total_precipitation\",\n",
    "                         year=2022,\n",
    "                         month=[9, 10, 11],\n",
    "                         day=\"01\",\n",
    "                         time=\"12:00\",\n",
    "                         area=[38.72, -9.14, 38.72, -9.14])\n",
    "\n",
    "# Load the data\n",
    "data_precip = source.to_xarray()"
   ]
  },
  {
   "cell_type": "code",
   "execution_count": 28,
   "metadata": {},
   "outputs": [
    {
     "name": "stdout",
     "output_type": "stream",
     "text": [
      "<xarray.Dataset>\n",
      "Dimensions:     (number: 1, time: 3, step: 1, surface: 1, latitude: 1,\n",
      "                 longitude: 1)\n",
      "Coordinates:\n",
      "  * number      (number) int32 0\n",
      "  * time        (time) datetime64[ns] 2022-09-01T06:00:00 ... 2022-11-01T06:0...\n",
      "  * step        (step) timedelta64[ns] 06:00:00\n",
      "  * surface     (surface) float64 0.0\n",
      "  * latitude    (latitude) float64 38.72\n",
      "  * longitude   (longitude) float64 -9.14\n",
      "    valid_time  (time, step) datetime64[ns] ...\n",
      "Data variables:\n",
      "    tp          (number, time, step, surface, latitude, longitude) float32 ...\n",
      "Attributes:\n",
      "    GRIB_edition:            1\n",
      "    GRIB_centre:             ecmf\n",
      "    GRIB_centreDescription:  European Centre for Medium-Range Weather Forecasts\n",
      "    GRIB_subCentre:          0\n",
      "    Conventions:             CF-1.7\n",
      "    institution:             European Centre for Medium-Range Weather Forecasts\n",
      "    history:                 2023-04-11T22:27 GRIB to CDM+CF via cfgrib-0.9.1...\n"
     ]
    }
   ],
   "source": [
    "print(data_precip)"
   ]
  },
  {
   "cell_type": "code",
   "execution_count": 29,
   "metadata": {},
   "outputs": [],
   "source": [
    "# Merge the temperature and precipitation data\n",
    "data_merged = xr.merge([data_temp, data_precip])"
   ]
  },
  {
   "cell_type": "code",
   "execution_count": 30,
   "metadata": {},
   "outputs": [
    {
     "name": "stdout",
     "output_type": "stream",
     "text": [
      "<xarray.Dataset>\n",
      "Dimensions:     (number: 1, time: 6, step: 2, surface: 1, latitude: 1,\n",
      "                 longitude: 1)\n",
      "Coordinates:\n",
      "  * number      (number) int32 0\n",
      "  * time        (time) datetime64[ns] 2022-09-01T06:00:00 ... 2022-11-01T12:0...\n",
      "  * step        (step) timedelta64[ns] 00:00:00 06:00:00\n",
      "  * surface     (surface) float64 0.0\n",
      "  * latitude    (latitude) float64 38.72\n",
      "  * longitude   (longitude) float64 -9.14\n",
      "    valid_time  (time, step) datetime64[ns] NaT 2022-09-01T12:00:00 ... NaT\n",
      "Data variables:\n",
      "    t2m         (number, time, step, surface, latitude, longitude) float32 na...\n",
      "    tp          (number, time, step, surface, latitude, longitude) float32 na...\n",
      "Attributes:\n",
      "    GRIB_edition:            1\n",
      "    GRIB_centre:             ecmf\n",
      "    GRIB_centreDescription:  European Centre for Medium-Range Weather Forecasts\n",
      "    GRIB_subCentre:          0\n",
      "    Conventions:             CF-1.7\n",
      "    institution:             European Centre for Medium-Range Weather Forecasts\n",
      "    history:                 2023-04-11T22:27 GRIB to CDM+CF via cfgrib-0.9.1...\n"
     ]
    }
   ],
   "source": [
    "print(data_merged)"
   ]
  }
 ],
 "metadata": {
  "kernelspec": {
   "display_name": "Python 3",
   "language": "python",
   "name": "python3"
  },
  "language_info": {
   "codemirror_mode": {
    "name": "ipython",
    "version": 3
   },
   "file_extension": ".py",
   "mimetype": "text/x-python",
   "name": "python",
   "nbconvert_exporter": "python",
   "pygments_lexer": "ipython3",
   "version": "3.10.2"
  },
  "orig_nbformat": 4
 },
 "nbformat": 4,
 "nbformat_minor": 2
}
