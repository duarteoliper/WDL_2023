{
 "cells": [
  {
   "attachments": {},
   "cell_type": "markdown",
   "metadata": {},
   "source": [
    "# Climate data\n",
    "This code loads the `climetlab` package and sets the source and dataset to retrieve data from the Climate Data Store (CDS) for the ERA5 reanalysis dataset. The API configuration was performed following `https://cds.climate.copernicus.eu/api-how-to`.\n",
    "\n",
    "`climetlab.load_source` ->  The `product_type` is set to `\"reanalysis\"`, and the `variable` is set to `\"2m_temperature\"` to retrieve temperature data at 2 meters above ground level (Kelvin), or `\"total_precipitation\"` represents the total precipitation rate and its units are meters per second (m s-1)\n",
    "  The `year` is set to `2022`, and the `month` is set to a list containing `9`, `10`, and `11` to retrieve data for September, October, and November of 2022.\n",
    "   The `day` and `time` are set to `\"01\"` and `\"12:00\"`, respectively, to retrieve data for the first day of each month at noon.\n",
    "    The `area` parameter is set to `[38.72, -9.14, 38.72, -9.14]` to specify the coordinates for Lisbon.\n",
    "    The data is then loaded into an xarray object using the `to_xarray()` method and printed to the screen.\n",
    "    Is there anything else you would like to know?"
   ]
  },
  {
   "attachments": {},
   "cell_type": "markdown",
   "metadata": {},
   "source": [
    "# TODOS\n",
    "* Add labels to plot\n",
    "* How to integrate with model - only 1 value for the entire city, per hour"
   ]
  },
  {
   "cell_type": "code",
   "execution_count": 156,
   "metadata": {},
   "outputs": [],
   "source": [
    "import climetlab as cml\n",
    "import xarray as xr"
   ]
  },
  {
   "cell_type": "code",
   "execution_count": 157,
   "metadata": {},
   "outputs": [],
   "source": [
    "hours_param = [f\"0{i}:00\" for i in range(0, 10)] + [f\"{i}:00\" for i in range(10, 24)]"
   ]
  },
  {
   "cell_type": "code",
   "execution_count": 158,
   "metadata": {},
   "outputs": [
    {
     "name": "stderr",
     "output_type": "stream",
     "text": [
      "2023-04-12 00:07:28,312 INFO Welcome to the CDS\n",
      "2023-04-12 00:07:28,312 INFO Sending request to https://cds.climate.copernicus.eu/api/v2/resources/reanalysis-era5-single-levels\n",
      "2023-04-12 00:07:28,412 INFO Request is queued\n",
      "2023-04-12 00:07:29,483 INFO Request is running\n",
      "2023-04-12 00:09:22,458 INFO Request is completed\n",
      "2023-04-12 00:09:22,458 INFO Downloading https://download-0011-clone.copernicus-climate.eu/cache-compute-0011/cache/data3/adaptor.mars.internal-1681254448.2791424-19007-4-7b30f26d-2162-49f0-9b39-083837dee344.grib to C:\\Users\\DUARTE~1.PER\\AppData\\Local\\Temp\\climetlab-duarte.pereira\\cds-retriever-37a4825700ebc3d9b3c61c0b11fc1314ea25dc641267be7de4613a0a491735d0.cache.tmp (253.1K)\n",
      "2023-04-12 00:09:23,182 INFO Download rate 349.5K/s\n"
     ]
    }
   ],
   "source": [
    "# Set the source and dataset\n",
    "source = cml.load_source(\"cds\", \"reanalysis-era5-single-levels\",\n",
    "                         product_type=\"reanalysis\",\n",
    "                         variable=\"2m_temperature\",\n",
    "                         year=2022,\n",
    "                         month=[10, 11, 12],\n",
    "                         day=list(range(1,31)),\n",
    "                         time=hours_param,\n",
    "                         area=[38.72, -9.14, 38.72, -9.14])\n",
    "\n",
    "# Load the data\n",
    "data_temp = source.to_xarray()"
   ]
  },
  {
   "cell_type": "code",
   "execution_count": 159,
   "metadata": {},
   "outputs": [
    {
     "name": "stdout",
     "output_type": "stream",
     "text": [
      "<xarray.Dataset>\n",
      "Dimensions:     (number: 1, time: 2160, step: 1, surface: 1, latitude: 1,\n",
      "                 longitude: 1)\n",
      "Coordinates:\n",
      "  * number      (number) int32 0\n",
      "  * time        (time) datetime64[ns] 2022-10-01 ... 2022-12-30T23:00:00\n",
      "  * step        (step) timedelta64[ns] 00:00:00\n",
      "  * surface     (surface) float64 0.0\n",
      "  * latitude    (latitude) float64 38.72\n",
      "  * longitude   (longitude) float64 -9.14\n",
      "    valid_time  (time, step) datetime64[ns] ...\n",
      "Data variables:\n",
      "    t2m         (number, time, step, surface, latitude, longitude) float32 ...\n",
      "Attributes:\n",
      "    GRIB_edition:            1\n",
      "    GRIB_centre:             ecmf\n",
      "    GRIB_centreDescription:  European Centre for Medium-Range Weather Forecasts\n",
      "    GRIB_subCentre:          0\n",
      "    Conventions:             CF-1.7\n",
      "    institution:             European Centre for Medium-Range Weather Forecasts\n",
      "    history:                 2023-04-12T00:09 GRIB to CDM+CF via cfgrib-0.9.1...\n"
     ]
    }
   ],
   "source": [
    "print(data_temp)"
   ]
  },
  {
   "cell_type": "code",
   "execution_count": 160,
   "metadata": {},
   "outputs": [
    {
     "name": "stderr",
     "output_type": "stream",
     "text": [
      "2023-04-12 00:09:30,775 INFO Welcome to the CDS\n",
      "2023-04-12 00:09:30,776 INFO Sending request to https://cds.climate.copernicus.eu/api/v2/resources/reanalysis-era5-single-levels\n",
      "2023-04-12 00:09:30,946 INFO Request is queued\n",
      "2023-04-12 00:09:32,037 INFO Request is running\n",
      "2023-04-12 00:10:20,753 INFO Request is completed\n",
      "2023-04-12 00:10:20,753 INFO Downloading https://download-0014-clone.copernicus-climate.eu/cache-compute-0014/cache/data7/adaptor.mars.internal-1681254570.89009-9613-5-74d1ac89-153b-4c78-a0d1-6434540a7ddf.grib to C:\\Users\\DUARTE~1.PER\\AppData\\Local\\Temp\\climetlab-duarte.pereira\\cds-retriever-1bcf702bc96cc3a304f97bff5b71c8d8be82d576a2d4fabfec18de95f2d6461c.cache.tmp (253.1K)\n",
      "2023-04-12 00:10:22,327 INFO Download rate 160.8K/s\n"
     ]
    }
   ],
   "source": [
    "# total_precipitation represents the total precipitation rate and its units are meters per second (m s-1)\n",
    "source = cml.load_source(\"cds\", \"reanalysis-era5-single-levels\",\n",
    "                         product_type=\"reanalysis\",\n",
    "                         variable=\"total_precipitation\",\n",
    "                         year=2022,\n",
    "                         month=[10, 11, 12],\n",
    "                         day=list(range(1,31)),\n",
    "                         time=hours_param,\n",
    "                         area=[38.72, -9.14, 38.72, -9.14])\n",
    "\n",
    "# Load the data\n",
    "data_precip = source.to_xarray()"
   ]
  },
  {
   "cell_type": "code",
   "execution_count": 161,
   "metadata": {},
   "outputs": [
    {
     "name": "stdout",
     "output_type": "stream",
     "text": [
      "<xarray.Dataset>\n",
      "Dimensions:     (number: 1, time: 182, step: 12, surface: 1, latitude: 1,\n",
      "                 longitude: 1)\n",
      "Coordinates:\n",
      "  * number      (number) int32 0\n",
      "  * time        (time) datetime64[ns] 2022-09-30T18:00:00 ... 2022-12-30T18:0...\n",
      "  * step        (step) timedelta64[ns] 01:00:00 02:00:00 ... 11:00:00 12:00:00\n",
      "  * surface     (surface) float64 0.0\n",
      "  * latitude    (latitude) float64 38.72\n",
      "  * longitude   (longitude) float64 -9.14\n",
      "    valid_time  (time, step) datetime64[ns] ...\n",
      "Data variables:\n",
      "    tp          (number, time, step, surface, latitude, longitude) float32 ...\n",
      "Attributes:\n",
      "    GRIB_edition:            1\n",
      "    GRIB_centre:             ecmf\n",
      "    GRIB_centreDescription:  European Centre for Medium-Range Weather Forecasts\n",
      "    GRIB_subCentre:          0\n",
      "    Conventions:             CF-1.7\n",
      "    institution:             European Centre for Medium-Range Weather Forecasts\n",
      "    history:                 2023-04-12T00:10 GRIB to CDM+CF via cfgrib-0.9.1...\n"
     ]
    }
   ],
   "source": [
    "print(data_precip)"
   ]
  },
  {
   "cell_type": "code",
   "execution_count": 206,
   "metadata": {},
   "outputs": [],
   "source": [
    "# Convert the merged xarray object to a pandas DataFrame\n",
    "df = data_temp.to_dataframe().reset_index()\n",
    "df['tp'] =  data_precip.to_dataframe().reset_index()['tp']\n",
    "# Set the time column as the index\n",
    "df = df.set_index(\"time\")"
   ]
  },
  {
   "cell_type": "code",
   "execution_count": 205,
   "metadata": {},
   "outputs": [
    {
     "data": {
      "text/html": [
       "<div>\n",
       "<style scoped>\n",
       "    .dataframe tbody tr th:only-of-type {\n",
       "        vertical-align: middle;\n",
       "    }\n",
       "\n",
       "    .dataframe tbody tr th {\n",
       "        vertical-align: top;\n",
       "    }\n",
       "\n",
       "    .dataframe thead th {\n",
       "        text-align: right;\n",
       "    }\n",
       "</style>\n",
       "<table border=\"1\" class=\"dataframe\">\n",
       "  <thead>\n",
       "    <tr style=\"text-align: right;\">\n",
       "      <th></th>\n",
       "      <th>number</th>\n",
       "      <th>step</th>\n",
       "      <th>surface</th>\n",
       "      <th>latitude</th>\n",
       "      <th>longitude</th>\n",
       "      <th>valid_time</th>\n",
       "      <th>t2m</th>\n",
       "      <th>tp</th>\n",
       "    </tr>\n",
       "    <tr>\n",
       "      <th>time</th>\n",
       "      <th></th>\n",
       "      <th></th>\n",
       "      <th></th>\n",
       "      <th></th>\n",
       "      <th></th>\n",
       "      <th></th>\n",
       "      <th></th>\n",
       "      <th></th>\n",
       "    </tr>\n",
       "  </thead>\n",
       "  <tbody>\n",
       "    <tr>\n",
       "      <th>2022-10-01 00:00:00</th>\n",
       "      <td>0</td>\n",
       "      <td>0 days</td>\n",
       "      <td>0.0</td>\n",
       "      <td>38.72</td>\n",
       "      <td>-9.14</td>\n",
       "      <td>2022-10-01 00:00:00</td>\n",
       "      <td>287.739258</td>\n",
       "      <td>NaN</td>\n",
       "    </tr>\n",
       "    <tr>\n",
       "      <th>2022-10-01 01:00:00</th>\n",
       "      <td>0</td>\n",
       "      <td>0 days</td>\n",
       "      <td>0.0</td>\n",
       "      <td>38.72</td>\n",
       "      <td>-9.14</td>\n",
       "      <td>2022-10-01 01:00:00</td>\n",
       "      <td>287.532715</td>\n",
       "      <td>NaN</td>\n",
       "    </tr>\n",
       "    <tr>\n",
       "      <th>2022-10-01 02:00:00</th>\n",
       "      <td>0</td>\n",
       "      <td>0 days</td>\n",
       "      <td>0.0</td>\n",
       "      <td>38.72</td>\n",
       "      <td>-9.14</td>\n",
       "      <td>2022-10-01 02:00:00</td>\n",
       "      <td>287.250000</td>\n",
       "      <td>NaN</td>\n",
       "    </tr>\n",
       "    <tr>\n",
       "      <th>2022-10-01 03:00:00</th>\n",
       "      <td>0</td>\n",
       "      <td>0 days</td>\n",
       "      <td>0.0</td>\n",
       "      <td>38.72</td>\n",
       "      <td>-9.14</td>\n",
       "      <td>2022-10-01 03:00:00</td>\n",
       "      <td>287.042236</td>\n",
       "      <td>NaN</td>\n",
       "    </tr>\n",
       "    <tr>\n",
       "      <th>2022-10-01 04:00:00</th>\n",
       "      <td>0</td>\n",
       "      <td>0 days</td>\n",
       "      <td>0.0</td>\n",
       "      <td>38.72</td>\n",
       "      <td>-9.14</td>\n",
       "      <td>2022-10-01 04:00:00</td>\n",
       "      <td>286.948730</td>\n",
       "      <td>NaN</td>\n",
       "    </tr>\n",
       "    <tr>\n",
       "      <th>...</th>\n",
       "      <td>...</td>\n",
       "      <td>...</td>\n",
       "      <td>...</td>\n",
       "      <td>...</td>\n",
       "      <td>...</td>\n",
       "      <td>...</td>\n",
       "      <td>...</td>\n",
       "      <td>...</td>\n",
       "    </tr>\n",
       "    <tr>\n",
       "      <th>2022-12-30 19:00:00</th>\n",
       "      <td>0</td>\n",
       "      <td>0 days</td>\n",
       "      <td>0.0</td>\n",
       "      <td>38.72</td>\n",
       "      <td>-9.14</td>\n",
       "      <td>2022-12-30 19:00:00</td>\n",
       "      <td>289.267334</td>\n",
       "      <td>0.0</td>\n",
       "    </tr>\n",
       "    <tr>\n",
       "      <th>2022-12-30 20:00:00</th>\n",
       "      <td>0</td>\n",
       "      <td>0 days</td>\n",
       "      <td>0.0</td>\n",
       "      <td>38.72</td>\n",
       "      <td>-9.14</td>\n",
       "      <td>2022-12-30 20:00:00</td>\n",
       "      <td>289.145508</td>\n",
       "      <td>0.0</td>\n",
       "    </tr>\n",
       "    <tr>\n",
       "      <th>2022-12-30 21:00:00</th>\n",
       "      <td>0</td>\n",
       "      <td>0 days</td>\n",
       "      <td>0.0</td>\n",
       "      <td>38.72</td>\n",
       "      <td>-9.14</td>\n",
       "      <td>2022-12-30 21:00:00</td>\n",
       "      <td>288.899902</td>\n",
       "      <td>0.0</td>\n",
       "    </tr>\n",
       "    <tr>\n",
       "      <th>2022-12-30 22:00:00</th>\n",
       "      <td>0</td>\n",
       "      <td>0 days</td>\n",
       "      <td>0.0</td>\n",
       "      <td>38.72</td>\n",
       "      <td>-9.14</td>\n",
       "      <td>2022-12-30 22:00:00</td>\n",
       "      <td>288.859863</td>\n",
       "      <td>0.0</td>\n",
       "    </tr>\n",
       "    <tr>\n",
       "      <th>2022-12-30 23:00:00</th>\n",
       "      <td>0</td>\n",
       "      <td>0 days</td>\n",
       "      <td>0.0</td>\n",
       "      <td>38.72</td>\n",
       "      <td>-9.14</td>\n",
       "      <td>2022-12-30 23:00:00</td>\n",
       "      <td>288.994629</td>\n",
       "      <td>0.0</td>\n",
       "    </tr>\n",
       "  </tbody>\n",
       "</table>\n",
       "<p>2160 rows × 8 columns</p>\n",
       "</div>"
      ],
      "text/plain": [
       "                     number   step  surface  latitude  longitude  \\\n",
       "time                                                               \n",
       "2022-10-01 00:00:00       0 0 days      0.0     38.72      -9.14   \n",
       "2022-10-01 01:00:00       0 0 days      0.0     38.72      -9.14   \n",
       "2022-10-01 02:00:00       0 0 days      0.0     38.72      -9.14   \n",
       "2022-10-01 03:00:00       0 0 days      0.0     38.72      -9.14   \n",
       "2022-10-01 04:00:00       0 0 days      0.0     38.72      -9.14   \n",
       "...                     ...    ...      ...       ...        ...   \n",
       "2022-12-30 19:00:00       0 0 days      0.0     38.72      -9.14   \n",
       "2022-12-30 20:00:00       0 0 days      0.0     38.72      -9.14   \n",
       "2022-12-30 21:00:00       0 0 days      0.0     38.72      -9.14   \n",
       "2022-12-30 22:00:00       0 0 days      0.0     38.72      -9.14   \n",
       "2022-12-30 23:00:00       0 0 days      0.0     38.72      -9.14   \n",
       "\n",
       "                             valid_time         t2m   tp  \n",
       "time                                                      \n",
       "2022-10-01 00:00:00 2022-10-01 00:00:00  287.739258  NaN  \n",
       "2022-10-01 01:00:00 2022-10-01 01:00:00  287.532715  NaN  \n",
       "2022-10-01 02:00:00 2022-10-01 02:00:00  287.250000  NaN  \n",
       "2022-10-01 03:00:00 2022-10-01 03:00:00  287.042236  NaN  \n",
       "2022-10-01 04:00:00 2022-10-01 04:00:00  286.948730  NaN  \n",
       "...                                 ...         ...  ...  \n",
       "2022-12-30 19:00:00 2022-12-30 19:00:00  289.267334  0.0  \n",
       "2022-12-30 20:00:00 2022-12-30 20:00:00  289.145508  0.0  \n",
       "2022-12-30 21:00:00 2022-12-30 21:00:00  288.899902  0.0  \n",
       "2022-12-30 22:00:00 2022-12-30 22:00:00  288.859863  0.0  \n",
       "2022-12-30 23:00:00 2022-12-30 23:00:00  288.994629  0.0  \n",
       "\n",
       "[2160 rows x 8 columns]"
      ]
     },
     "execution_count": 205,
     "metadata": {},
     "output_type": "execute_result"
    }
   ],
   "source": [
    "df"
   ]
  },
  {
   "cell_type": "code",
   "execution_count": 213,
   "metadata": {},
   "outputs": [
    {
     "data": {
      "text/plain": [
       "0.00087974104"
      ]
     },
     "execution_count": 213,
     "metadata": {},
     "output_type": "execute_result"
    }
   ],
   "source": [
    "np.sort(df.tp.unique())[-100]"
   ]
  },
  {
   "cell_type": "code",
   "execution_count": 208,
   "metadata": {},
   "outputs": [],
   "source": [
    "import numpy as np\n",
    "import matplotlib.pyplot as plt"
   ]
  },
  {
   "cell_type": "code",
   "execution_count": 209,
   "metadata": {},
   "outputs": [],
   "source": [
    "df_resampled = df.resample(\"5D\").mean()\n",
    "# Format the timestamps as strings with only the day and month\n",
    "df_resampled.index = df_resampled.index.strftime(\"%d-%m\")"
   ]
  },
  {
   "cell_type": "code",
   "execution_count": 222,
   "metadata": {},
   "outputs": [
    {
     "data": {
      "image/png": "[encoded data removed]",
      "text/plain": [
       "<Figure size 432x288 with 1 Axes>"
      ]
     },
     "metadata": {
      "needs_background": "light"
     },
     "output_type": "display_data"
    }
   ],
   "source": [
    "# Visualize flood in december\n",
    "plt.plot(df_resampled.index, df_resampled['tp'])\n",
    "plt.xticks(rotation=45)\n",
    "plt.show()"
   ]
  },
  {
   "cell_type": "code",
   "execution_count": 225,
   "metadata": {},
   "outputs": [
    {
     "data": {
      "image/png": "[encoded data removed]",
      "text/plain": [
       "<Figure size 432x288 with 1 Axes>"
      ]
     },
     "metadata": {
      "needs_background": "light"
     },
     "output_type": "display_data"
    }
   ],
   "source": [
    "plt.plot(df.index, df['t2m']-273.15)\n",
    "plt.xticks(rotation=45)\n",
    "plt.show()"
   ]
  },
  {
   "cell_type": "code",
   "execution_count": 226,
   "metadata": {},
   "outputs": [
    {
     "data": {
      "image/png": "[encoded data removed]",
      "text/plain": [
       "<Figure size 432x288 with 1 Axes>"
      ]
     },
     "metadata": {
      "needs_background": "light"
     },
     "output_type": "display_data"
    }
   ],
   "source": [
    "plt.plot(df_resampled.index, df_resampled['t2m']-273.15)\n",
    "plt.xticks(rotation=45)\n",
    "plt.show()"
   ]
  }
 ],
 "metadata": {
  "kernelspec": {
   "display_name": "Python 3",
   "language": "python",
   "name": "python3"
  },
  "language_info": {
   "codemirror_mode": {
    "name": "ipython",
    "version": 3
   },
   "file_extension": ".py",
   "mimetype": "text/x-python",
   "name": "python",
   "nbconvert_exporter": "python",
   "pygments_lexer": "ipython3",
   "version": "3.10.2"
  },
  "orig_nbformat": 4
 },
 "nbformat": 4,
 "nbformat_minor": 2
}
