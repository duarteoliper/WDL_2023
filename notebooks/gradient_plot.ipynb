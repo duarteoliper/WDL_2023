{
 "cells": [
  {
   "cell_type": "code",
   "execution_count": null,
   "metadata": {},
   "outputs": [],
   "source": [
    "import plotly.graph_objects as go\n",
    "import numpy as np"
   ]
  },
  {
   "cell_type": "code",
   "execution_count": null,
   "metadata": {},
   "outputs": [],
   "source": [
    "# Create a 2D array to represent the gradient\n",
    "gradient = np.linspace(0, 1, 100).reshape(-1, 1)\n",
    "\n",
    "# Create the heatmap trace\n",
    "heatmap = go.Heatmap(z=gradient, colorscale='Viridis')\n",
    "\n",
    "# Create the figure and add the trace\n",
    "fig = go.Figure(data=heatmap)\n",
    "\n",
    "# Set the axis labels and title\n",
    "fig.update_layout(\n",
    "    xaxis=dict(title='X Axis'),\n",
    "    yaxis=dict(title='Y Axis'),\n",
    "    title='Gradient Heatmap'\n",
    ")\n",
    "\n",
    "# Display the figure\n",
    "#fig.show()"
   ]
  },
  {
   "cell_type": "code",
   "execution_count": null,
   "metadata": {},
   "outputs": [],
   "source": [
    "# Create a 2D array to represent the gradient\n",
    "gradient = np.linspace(0, 1, 100)\n",
    "\n",
    "# Compute the x and y components of the gradient\n",
    "dx = np.ones_like(gradient)\n",
    "dy = np.gradient(gradient)\n",
    "\n",
    "# Create the arrow plot trace\n",
    "arrows = go.Scatter(x=gradient, y=np.zeros_like(gradient),\n",
    "                    mode='markers+text', marker=dict(size=5),\n",
    "                    textposition='top center', text=[f'{x:.2f}' for x in gradient],\n",
    "                    hovertext=[f'Gradient: {x:.2f}' for x in dy],\n",
    "                    hoverinfo='text',\n",
    "                    error_y=dict(type='constant', value=0.2),\n",
    "                    error_x=dict(array=dx, type='constant', value=0.05),\n",
    "                    )\n",
    "\n",
    "# Create the figure and add the trace\n",
    "fig = go.Figure(data=arrows)\n",
    "\n",
    "# Set the axis labels and title\n",
    "fig.update_layout(\n",
    "    xaxis=dict(title='Gradient'),\n",
    "    yaxis=dict(title=''),\n",
    "    title='Gradient Arrows'\n",
    ")\n",
    "\n",
    "# Display the figure\n",
    "fig.show()\n"
   ]
  }
 ],
 "metadata": {
  "kernelspec": {
   "display_name": "wdl_2023",
   "language": "python",
   "name": "python3"
  },
  "language_info": {
   "codemirror_mode": {
    "name": "ipython",
    "version": 3
   },
   "file_extension": ".py",
   "mimetype": "text/x-python",
   "name": "python",
   "nbconvert_exporter": "python",
   "pygments_lexer": "ipython3",
   "version": "3.9.7"
  },
  "orig_nbformat": 4
 },
 "nbformat": 4,
 "nbformat_minor": 2
}
