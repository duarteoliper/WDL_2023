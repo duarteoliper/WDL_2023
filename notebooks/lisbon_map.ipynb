{
 "cells": [
  {
   "cell_type": "code",
   "execution_count": 3,
   "metadata": {},
   "outputs": [],
   "source": [
    "import os\n",
    "import folium\n",
    "import geopandas as gpd\n",
    "import pandas as pd\n",
    "from shapely import wkt"
   ]
  },
  {
   "cell_type": "code",
   "execution_count": 30,
   "metadata": {},
   "outputs": [],
   "source": [
    "# Read data from the xlsx file\n",
    "grid_info = os.path.join(os.path.dirname(os.getcwd()), \"data\", \"raw\", \"ficheiros_WDL\", \"DISPOSITIVOS MOVEIS_QUADRICULAS\", \"DISPOSITIVOS MOVEIS_QUADRICULAS.xlsx\")\n",
    "data = pd.read_excel(grid_info, sheet_name='em bruto', engine='openpyxl')"
   ]
  },
  {
   "cell_type": "code",
   "execution_count": 31,
   "metadata": {},
   "outputs": [
    {
     "data": {
      "text/html": [
       "<div>\n",
       "<style scoped>\n",
       "    .dataframe tbody tr th:only-of-type {\n",
       "        vertical-align: middle;\n",
       "    }\n",
       "\n",
       "    .dataframe tbody tr th {\n",
       "        vertical-align: top;\n",
       "    }\n",
       "\n",
       "    .dataframe thead th {\n",
       "        text-align: right;\n",
       "    }\n",
       "</style>\n",
       "<table border=\"1\" class=\"dataframe\">\n",
       "  <thead>\n",
       "    <tr style=\"text-align: right;\">\n",
       "      <th></th>\n",
       "      <th>grelha_id</th>\n",
       "      <th>dicofre</th>\n",
       "      <th>entity_id</th>\n",
       "      <th>entity_type</th>\n",
       "      <th>freguesia</th>\n",
       "      <th>freguesias</th>\n",
       "      <th>grelha_x</th>\n",
       "      <th>grelha_y</th>\n",
       "      <th>latitude</th>\n",
       "      <th>longitude</th>\n",
       "      <th>nome</th>\n",
       "      <th>objectid</th>\n",
       "      <th>position</th>\n",
       "      <th>wkt</th>\n",
       "    </tr>\n",
       "  </thead>\n",
       "  <tbody>\n",
       "    <tr>\n",
       "      <th>0</th>\n",
       "      <td>1</td>\n",
       "      <td>110658</td>\n",
       "      <td>coi.tematica.grelha.lx.atributos.3518</td>\n",
       "      <td>coi.tematica.grelha.lx.atributos</td>\n",
       "      <td>Belém</td>\n",
       "      <td>Santa Maria de Belém + São Francisco Xavier</td>\n",
       "      <td>4</td>\n",
       "      <td>1</td>\n",
       "      <td>38.692094</td>\n",
       "      <td>-9.225027</td>\n",
       "      <td>Área ribeirinha Pedrouços</td>\n",
       "      <td>1</td>\n",
       "      <td>{'type': 'GeometryCollection', 'geometries': [...</td>\n",
       "      <td>MULTIPOLYGON {{{-9.22412591616028 38.691391736...</td>\n",
       "    </tr>\n",
       "    <tr>\n",
       "      <th>1</th>\n",
       "      <td>2</td>\n",
       "      <td>110658</td>\n",
       "      <td>coi.tematica.grelha.lx.atributos.3519</td>\n",
       "      <td>coi.tematica.grelha.lx.atributos</td>\n",
       "      <td>Belém</td>\n",
       "      <td>Santa Maria de Belém + São Francisco Xavier</td>\n",
       "      <td>5</td>\n",
       "      <td>1</td>\n",
       "      <td>38.692094</td>\n",
       "      <td>-9.223231</td>\n",
       "      <td>Área ribeirinha Pedrouços</td>\n",
       "      <td>2</td>\n",
       "      <td>{'type': 'GeometryCollection', 'geometries': [...</td>\n",
       "      <td>MULTIPOLYGON {{{-9.22232928559204 38.691391736...</td>\n",
       "    </tr>\n",
       "    <tr>\n",
       "      <th>2</th>\n",
       "      <td>3</td>\n",
       "      <td>110658</td>\n",
       "      <td>coi.tematica.grelha.lx.atributos.3520</td>\n",
       "      <td>coi.tematica.grelha.lx.atributos</td>\n",
       "      <td>Belém</td>\n",
       "      <td>Santa Maria de Belém + São Francisco Xavier</td>\n",
       "      <td>6</td>\n",
       "      <td>1</td>\n",
       "      <td>38.692094</td>\n",
       "      <td>-9.221434</td>\n",
       "      <td>Área ribeirinha Pedrouços</td>\n",
       "      <td>3</td>\n",
       "      <td>{'type': 'GeometryCollection', 'geometries': [...</td>\n",
       "      <td>MULTIPOLYGON {{{-9.2205326550238 38.6913917367...</td>\n",
       "    </tr>\n",
       "    <tr>\n",
       "      <th>3</th>\n",
       "      <td>4</td>\n",
       "      <td>110658</td>\n",
       "      <td>coi.tematica.grelha.lx.atributos.3521</td>\n",
       "      <td>coi.tematica.grelha.lx.atributos</td>\n",
       "      <td>Belém</td>\n",
       "      <td>Santa Maria de Belém + São Francisco Xavier</td>\n",
       "      <td>7</td>\n",
       "      <td>1</td>\n",
       "      <td>38.692094</td>\n",
       "      <td>-9.219637</td>\n",
       "      <td>Torre de Belém</td>\n",
       "      <td>4</td>\n",
       "      <td>{'type': 'GeometryCollection', 'geometries': [...</td>\n",
       "      <td>MULTIPOLYGON {{{-9.21873602445556 38.691391736...</td>\n",
       "    </tr>\n",
       "    <tr>\n",
       "      <th>4</th>\n",
       "      <td>5</td>\n",
       "      <td>110658</td>\n",
       "      <td>coi.tematica.grelha.lx.atributos.3522</td>\n",
       "      <td>coi.tematica.grelha.lx.atributos</td>\n",
       "      <td>Belém</td>\n",
       "      <td>Santa Maria de Belém + São Francisco Xavier</td>\n",
       "      <td>8</td>\n",
       "      <td>1</td>\n",
       "      <td>38.692094</td>\n",
       "      <td>-9.217841</td>\n",
       "      <td>Torre de Belém</td>\n",
       "      <td>5</td>\n",
       "      <td>{'type': 'GeometryCollection', 'geometries': [...</td>\n",
       "      <td>MULTIPOLYGON {{{-9.21693939388732 38.691391736...</td>\n",
       "    </tr>\n",
       "  </tbody>\n",
       "</table>\n",
       "</div>"
      ],
      "text/plain": [
       "   grelha_id  dicofre                              entity_id   \n",
       "0          1   110658  coi.tematica.grelha.lx.atributos.3518  \\\n",
       "1          2   110658  coi.tematica.grelha.lx.atributos.3519   \n",
       "2          3   110658  coi.tematica.grelha.lx.atributos.3520   \n",
       "3          4   110658  coi.tematica.grelha.lx.atributos.3521   \n",
       "4          5   110658  coi.tematica.grelha.lx.atributos.3522   \n",
       "\n",
       "                        entity_type freguesia   \n",
       "0  coi.tematica.grelha.lx.atributos     Belém  \\\n",
       "1  coi.tematica.grelha.lx.atributos     Belém   \n",
       "2  coi.tematica.grelha.lx.atributos     Belém   \n",
       "3  coi.tematica.grelha.lx.atributos     Belém   \n",
       "4  coi.tematica.grelha.lx.atributos     Belém   \n",
       "\n",
       "                                    freguesias  grelha_x  grelha_y   latitude   \n",
       "0  Santa Maria de Belém + São Francisco Xavier         4         1  38.692094  \\\n",
       "1  Santa Maria de Belém + São Francisco Xavier         5         1  38.692094   \n",
       "2  Santa Maria de Belém + São Francisco Xavier         6         1  38.692094   \n",
       "3  Santa Maria de Belém + São Francisco Xavier         7         1  38.692094   \n",
       "4  Santa Maria de Belém + São Francisco Xavier         8         1  38.692094   \n",
       "\n",
       "   longitude                       nome  objectid   \n",
       "0  -9.225027  Área ribeirinha Pedrouços         1  \\\n",
       "1  -9.223231  Área ribeirinha Pedrouços         2   \n",
       "2  -9.221434  Área ribeirinha Pedrouços         3   \n",
       "3  -9.219637             Torre de Belém         4   \n",
       "4  -9.217841             Torre de Belém         5   \n",
       "\n",
       "                                            position   \n",
       "0  {'type': 'GeometryCollection', 'geometries': [...  \\\n",
       "1  {'type': 'GeometryCollection', 'geometries': [...   \n",
       "2  {'type': 'GeometryCollection', 'geometries': [...   \n",
       "3  {'type': 'GeometryCollection', 'geometries': [...   \n",
       "4  {'type': 'GeometryCollection', 'geometries': [...   \n",
       "\n",
       "                                                 wkt  \n",
       "0  MULTIPOLYGON {{{-9.22412591616028 38.691391736...  \n",
       "1  MULTIPOLYGON {{{-9.22232928559204 38.691391736...  \n",
       "2  MULTIPOLYGON {{{-9.2205326550238 38.6913917367...  \n",
       "3  MULTIPOLYGON {{{-9.21873602445556 38.691391736...  \n",
       "4  MULTIPOLYGON {{{-9.21693939388732 38.691391736...  "
      ]
     },
     "execution_count": 31,
     "metadata": {},
     "output_type": "execute_result"
    }
   ],
   "source": [
    "data.head()"
   ]
  },
  {
   "cell_type": "code",
   "execution_count": 16,
   "metadata": {},
   "outputs": [],
   "source": [
    "# Extract ids\n",
    "ids = data[\"grelha_id\"].tolist()"
   ]
  },
  {
   "cell_type": "code",
   "execution_count": 36,
   "metadata": {},
   "outputs": [],
   "source": [
    "# Function to remove extra curly braces and return a valid WKT string\n",
    "def fix_wkt_string(wkt_string):\n",
    "    return wkt_string.replace(\"{{{\", \"(((\").replace(\"}}}\", \")))\")"
   ]
  },
  {
   "cell_type": "code",
   "execution_count": 40,
   "metadata": {},
   "outputs": [],
   "source": [
    "# Remove extra curly braces\n",
    "data[\"wkt\"] = data[\"wkt\"].apply(fix_wkt_string)"
   ]
  },
  {
   "cell_type": "code",
   "execution_count": 41,
   "metadata": {},
   "outputs": [],
   "source": [
    "# Apply wkt.loads\n",
    "polygons = data[\"wkt\"].apply(wkt.loads).tolist()"
   ]
  },
  {
   "cell_type": "code",
   "execution_count": 42,
   "metadata": {},
   "outputs": [],
   "source": [
    "# Create a GeoDataFrame from the polygons\n",
    "gdf = gpd.GeoDataFrame({\"id\": ids, \"geometry\": polygons})"
   ]
  },
  {
   "cell_type": "code",
   "execution_count": 43,
   "metadata": {},
   "outputs": [],
   "source": [
    "# Calculate the center of the map (average latitude and longitude)\n",
    "center_lat = gdf.geometry.centroid.y.mean()\n",
    "center_lon = gdf.geometry.centroid.x.mean()"
   ]
  },
  {
   "cell_type": "code",
   "execution_count": 44,
   "metadata": {},
   "outputs": [],
   "source": [
    "# Create a folium map\n",
    "m = folium.Map(location=[center_lat, center_lon], zoom_start=14)"
   ]
  },
  {
   "cell_type": "code",
   "execution_count": 45,
   "metadata": {},
   "outputs": [],
   "source": [
    "# Add grid squares to the map\n",
    "for _, row in gdf.iterrows():\n",
    "    folium.GeoJson(row.geometry, tooltip=f\"ID: {row.id}\").add_to(m)"
   ]
  },
  {
   "cell_type": "code",
   "execution_count": 46,
   "metadata": {},
   "outputs": [],
   "source": [
    "# Save the map to an HTML file\n",
    "m.save(\"grid_map.html\")"
   ]
  }
 ],
 "metadata": {
  "kernelspec": {
   "display_name": "wdl_2023",
   "language": "python",
   "name": "python3"
  },
  "language_info": {
   "codemirror_mode": {
    "name": "ipython",
    "version": 3
   },
   "file_extension": ".py",
   "mimetype": "text/x-python",
   "name": "python",
   "nbconvert_exporter": "python",
   "pygments_lexer": "ipython3",
   "version": "3.9.16"
  },
  "orig_nbformat": 4
 },
 "nbformat": 4,
 "nbformat_minor": 2
}
